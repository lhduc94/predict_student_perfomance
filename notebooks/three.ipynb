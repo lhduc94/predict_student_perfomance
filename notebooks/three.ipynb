{
 "cells": [
  {
   "cell_type": "code",
   "execution_count": 1,
   "id": "a43fd8c3-f8d2-4a70-b32b-7d9a1958760b",
   "metadata": {},
   "outputs": [],
   "source": [
    "import numpy as np # linear algebra\n",
    "import pandas as pd # data processing, CSV file I/O (e.g. pd.read_csv)\n",
    "import os\n",
    "import gc\n",
    "from collections import Counter\n",
    "from sklearn.preprocessing import MinMaxScaler\n",
    "from sklearn.model_selection import train_test_split, GroupKFold\n",
    "from sklearn.linear_model import LogisticRegression\n",
    "from sklearn.metrics import f1_score, classification_report\n",
    "from lightgbm import LGBMClassifier\n",
    "from xgboost import XGBClassifier"
   ]
  },
  {
   "cell_type": "code",
   "execution_count": 2,
   "id": "c001e1a5-361b-40b4-821e-d66c6b2e0cbb",
   "metadata": {},
   "outputs": [],
   "source": [
    "class Config:\n",
    "    TRAIN_PATH = '../inputs/train.csv'\n",
    "    TEST_PATH = '../inputs/test.csv'\n",
    "    TRAIN_LABELS = '../inputs/train_labels.csv'\n",
    "    SAMPLE_SUBMISSION = '../inputs/sample_submission.csv'"
   ]
  },
  {
   "cell_type": "code",
   "execution_count": 3,
   "id": "7f240295-7684-4f07-8542-99fafc68b4e7",
   "metadata": {},
   "outputs": [],
   "source": [
    "train_df = pd.read_csv(Config.TRAIN_PATH, usecols=lambda x: x not in ['fullscreen','hq','music'])\n",
    "train_labels = pd.read_csv(Config.TRAIN_LABELS)"
   ]
  },
  {
   "cell_type": "code",
   "execution_count": 4,
   "id": "1193a336-cc38-48f9-8b2e-691ee70c96fb",
   "metadata": {},
   "outputs": [],
   "source": [
    "train_df.rename(columns={'session_id':'session'},inplace=True)"
   ]
  },
  {
   "cell_type": "code",
   "execution_count": 5,
   "id": "7fda1a98-4784-44ef-b75e-bdebb8c25812",
   "metadata": {},
   "outputs": [],
   "source": [
    "train_labels['question'] = train_labels['session_id'].str.split('q').str[-1].astype('int')\n",
    "train_labels['session'] = train_labels['session_id'].str.split('_').str[0].astype('int64')"
   ]
  },
  {
   "cell_type": "code",
   "execution_count": 6,
   "id": "c811d6f6-97ae-430f-845f-1e4eea8cc784",
   "metadata": {},
   "outputs": [],
   "source": [
    "def q2l(x):\n",
    "    if x <= 3:\n",
    "        return '0-4'\n",
    "    if x <= 12:\n",
    "        return '5-12'\n",
    "    return '13-22'\n",
    "train_labels['level_group'] = train_labels['question'].apply(lambda x: q2l(x))"
   ]
  },
  {
   "cell_type": "code",
   "execution_count": 14,
   "id": "f965d424-2144-4a02-94e6-7c943465a179",
   "metadata": {},
   "outputs": [
    {
     "data": {
      "text/plain": [
       "array(['tunic.historicalsociety.closet',\n",
       "       'tunic.historicalsociety.basement',\n",
       "       'tunic.historicalsociety.entry',\n",
       "       'tunic.historicalsociety.collection',\n",
       "       'tunic.historicalsociety.stacks', 'tunic.kohlcenter.halloffame',\n",
       "       'tunic.capitol_0.hall', 'tunic.historicalsociety.closet_dirty',\n",
       "       'tunic.historicalsociety.frontdesk',\n",
       "       'tunic.humanecology.frontdesk', 'tunic.drycleaner.frontdesk',\n",
       "       'tunic.library.frontdesk', 'tunic.library.microfiche',\n",
       "       'tunic.capitol_1.hall', 'tunic.historicalsociety.cage',\n",
       "       'tunic.historicalsociety.collection_flag', 'tunic.wildlife.center',\n",
       "       'tunic.flaghouse.entry', 'tunic.capitol_2.hall'], dtype=object)"
      ]
     },
     "execution_count": 14,
     "metadata": {},
     "output_type": "execute_result"
    }
   ],
   "source": [
    "train_df.room_fqid.unique()"
   ]
  },
  {
   "cell_type": "code",
   "execution_count": 97,
   "id": "fc86402c-2b4a-40d1-96c8-d413e46a5e72",
   "metadata": {},
   "outputs": [
    {
     "data": {
      "text/plain": [
       "1"
      ]
     },
     "execution_count": 97,
     "metadata": {},
     "output_type": "execute_result"
    }
   ],
   "source": [
    "np.isnan([np.nan]).sum()"
   ]
  },
  {
   "cell_type": "code",
   "execution_count": 115,
   "id": "eabe869e-8251-45f0-9ba5-99c443f95787",
   "metadata": {},
   "outputs": [],
   "source": [
    "event_features =  ['checkpoint_click','cutscene_click', 'person_click', 'navigate_click',\n",
    "                   'observation_click', 'notification_click', 'object_click',\n",
    "                   'object_hover', 'map_hover', 'map_click', 'notebook_click']\n",
    "name_features = ['basic', 'undefined', 'close', 'open', 'prev', 'next']\n",
    "room_features = ['historicalsociety',\n",
    "          'kohlcenter',\n",
    "          'capitol_0',\n",
    "          'humanecology',\n",
    "          'drycleaner',\n",
    "          'library',\n",
    "          'capitol_1',\n",
    "          'wildlife',\n",
    "          'flaghouse','capitol_2']\n",
    "num_features = [ \n",
    "        'page', \n",
    "        'room_coor_x', \n",
    "        'room_coor_y', \n",
    "        'screen_coor_x', \n",
    "        'screen_coor_y', \n",
    "        'hover_duration']\n",
    "def groupby_apply(g):\n",
    "    res = {}\n",
    "    res['text_fqid'] = pd.isnull(g['text_fqid']).sum()\n",
    "\n",
    "    event_name_dict = Counter(g['event_name'].values)\n",
    "    event_sequence = g['event_name'].values[1:]\n",
    "    room_event_dict = Counter(g['room_event'].values)\n",
    "    room_sequence = g['main_room'].values[1:]\n",
    "    for col in event_features:\n",
    "        res[f'{col}_sum'] = event_name_dict.get(col, 0)\n",
    "        for col2 in room_features:\n",
    "            res[f'{col}_{col2}_sum'] = room_event_dict.get(f'{col}_{col2}',0)\n",
    "    room_dict = Counter(g['room_fqid'].values)\n",
    "    for col in room_features:\n",
    "        res[f'{col}_sum'] = room_dict.get(col, 0)\n",
    "    for col in num_features:\n",
    "        res[f'{col}_mean'] = np.mean(g[col])\n",
    "        res[f'{col}_max'] = np.max(g[col])\n",
    "        res[f'{col}_min'] = np.min(g[col])\n",
    "        res[f'{col}_std'] = np.std(g[col])\n",
    "\n",
    "    elapsed_time_diff = np.diff(g['elapsed_time'])\n",
    "    res['elapsed_time_diff_mean'] = np.mean(elapsed_time_diff)\n",
    "    res['elapsed_time_diff_std'] = np.std(elapsed_time_diff)\n",
    "    res['elapsed_time_diff_max'] = np.max(elapsed_time_diff)\n",
    "    res['elapsed_time_diff_min'] = np.min(elapsed_time_diff)\n",
    "    res['duration'] = g['elapsed_time'].values[-1] - g['elapsed_time'].values[0]\n",
    "    res['elapsed_time_diff_positive'] = len(elapsed_time_diff[elapsed_time_diff>0])\n",
    "    for col in event_features:\n",
    "        elapsed_time_diff_event = elapsed_time_diff[event_sequence==col]\n",
    "        if len(elapsed_time_diff_event) > 0 :\n",
    "            res[f'elapsed_time_diff_{col}_mean'] = np.mean(elapsed_time_diff_event)\n",
    "            res[f'elapsed_time_diff_{col}_max'] = np.max(elapsed_time_diff_event)\n",
    "            res[f'elapsed_time_diff_{col}_min'] = np.min(elapsed_time_diff_event)\n",
    "        else:\n",
    "            res[f'elapsed_time_diff_{col}_mean'] = 0\n",
    "            res[f'elapsed_time_diff_{col}_max'] = 0\n",
    "            res[f'elapsed_time_diff_{col}_min'] = 0\n",
    "    for col in room_features:\n",
    "        elapsed_time_diff_room = elapsed_time_diff[room_sequence==col]\n",
    "        if len(elapsed_time_diff_room) > 0 :\n",
    "            res[f'elapsed_time_diff_{col}_mean'] = np.mean(elapsed_time_diff_room)\n",
    "            res[f'elapsed_time_diff_{col}_max'] = np.max(elapsed_time_diff_room)\n",
    "            res[f'elapsed_time_diff_{col}_min'] = np.min(elapsed_time_diff_room)\n",
    "        else:\n",
    "            res[f'elapsed_time_diff_{col}_mean'] = 0\n",
    "            res[f'elapsed_time_diff_{col}_max'] = 0\n",
    "            res[f'elapsed_time_diff_{col}_min'] = 0\n",
    "    res['object_per_sum_navigate_object'] = res['object_click_sum'] / (res['object_click_sum']+res['navigate_click_sum']+1)\n",
    "    res['person_per_sum_navigate_object'] = res['person_click_sum'] / (res['person_click_sum']+res['navigate_click_sum']+1)\n",
    "    res['object_per_sum_person_object'] = res['object_click_sum'] / (res['object_click_sum']+res['person_click_sum']+1)\n",
    "    return pd.Series(res)"
   ]
  },
  {
   "cell_type": "code",
   "execution_count": 116,
   "id": "dc690e82-49a5-450a-b046-18e29e9508ca",
   "metadata": {},
   "outputs": [],
   "source": [
    "def feature_engineering(df, meta):\n",
    "    df['main_room'] = df['room_fqid'].str.split('.').str[1]\n",
    "    df['room_event'] =  df['event_name']+'_' + df['main_room']\n",
    "    X = df.groupby(['session','level_group']).apply(groupby_apply).reset_index()\n",
    "    X = meta.merge(X,how='left', on=['session','level_group'])\n",
    "    X['question'] = X['question'].astype('category')\n",
    "    X['level_group'] = X['level_group'].astype('category')\n",
    "    for i in range(1,19):\n",
    "        X[f'q{i}'] = X['question'] == i\n",
    "    for i in ['0-4','5-12','13-22']:\n",
    "        X[i] =  X['level_group'] == i\n",
    "    return X"
   ]
  },
  {
   "cell_type": "code",
   "execution_count": 117,
   "id": "fc1a1cdf-fb37-4058-bb68-33857454701e",
   "metadata": {},
   "outputs": [
    {
     "name": "stdout",
     "output_type": "stream",
     "text": [
      "CPU times: total: 1min 37s\n",
      "Wall time: 1min 42s\n"
     ]
    }
   ],
   "source": [
    "%%time\n",
    "X = feature_engineering(train_df, train_labels)"
   ]
  },
  {
   "cell_type": "code",
   "execution_count": 118,
   "id": "7a6590d1-e513-4f2a-90a5-1c92086c2d8c",
   "metadata": {},
   "outputs": [
    {
     "data": {
      "text/plain": [
       "249"
      ]
     },
     "execution_count": 118,
     "metadata": {},
     "output_type": "execute_result"
    }
   ],
   "source": [
    "FEATURES = X.columns[5:]\n",
    "len(FEATURES)"
   ]
  },
  {
   "cell_type": "code",
   "execution_count": 120,
   "id": "399dfd8f-f8f4-45b3-a6c2-168dcdf76100",
   "metadata": {
    "scrolled": true,
    "tags": []
   },
   "outputs": [
    {
     "name": "stdout",
     "output_type": "stream",
     "text": [
      "#########################\n",
      "### Fold 1\n",
      "#########################\n",
      "[0]\tvalidation_0-logloss:0.69033\tvalidation_1-logloss:0.69032\n",
      "[100]\tvalidation_0-logloss:0.55638\tvalidation_1-logloss:0.55591\n",
      "[200]\tvalidation_0-logloss:0.52209\tvalidation_1-logloss:0.52156\n",
      "[300]\tvalidation_0-logloss:0.50878\tvalidation_1-logloss:0.50879\n",
      "[400]\tvalidation_0-logloss:0.50117\tvalidation_1-logloss:0.50228\n",
      "[500]\tvalidation_0-logloss:0.49578\tvalidation_1-logloss:0.49819\n",
      "[600]\tvalidation_0-logloss:0.49165\tvalidation_1-logloss:0.49547\n",
      "[700]\tvalidation_0-logloss:0.48822\tvalidation_1-logloss:0.49374\n",
      "[800]\tvalidation_0-logloss:0.48522\tvalidation_1-logloss:0.49238\n",
      "[900]\tvalidation_0-logloss:0.48262\tvalidation_1-logloss:0.49148\n",
      "[1000]\tvalidation_0-logloss:0.48021\tvalidation_1-logloss:0.49077\n",
      "[1100]\tvalidation_0-logloss:0.47797\tvalidation_1-logloss:0.49021\n",
      "[1200]\tvalidation_0-logloss:0.47583\tvalidation_1-logloss:0.48969\n",
      "[1300]\tvalidation_0-logloss:0.47388\tvalidation_1-logloss:0.48925\n",
      "[1400]\tvalidation_0-logloss:0.47214\tvalidation_1-logloss:0.48896\n",
      "[1500]\tvalidation_0-logloss:0.47040\tvalidation_1-logloss:0.48868\n",
      "[1600]\tvalidation_0-logloss:0.46870\tvalidation_1-logloss:0.48837\n",
      "[1700]\tvalidation_0-logloss:0.46707\tvalidation_1-logloss:0.48816\n",
      "[1800]\tvalidation_0-logloss:0.46549\tvalidation_1-logloss:0.48798\n",
      "[1900]\tvalidation_0-logloss:0.46399\tvalidation_1-logloss:0.48783\n",
      "[2000]\tvalidation_0-logloss:0.46254\tvalidation_1-logloss:0.48768\n",
      "[2100]\tvalidation_0-logloss:0.46113\tvalidation_1-logloss:0.48760\n",
      "[2200]\tvalidation_0-logloss:0.45970\tvalidation_1-logloss:0.48747\n",
      "[2300]\tvalidation_0-logloss:0.45835\tvalidation_1-logloss:0.48735\n",
      "[2400]\tvalidation_0-logloss:0.45704\tvalidation_1-logloss:0.48721\n",
      "[2500]\tvalidation_0-logloss:0.45572\tvalidation_1-logloss:0.48715\n",
      "[2600]\tvalidation_0-logloss:0.45448\tvalidation_1-logloss:0.48708\n",
      "[2700]\tvalidation_0-logloss:0.45322\tvalidation_1-logloss:0.48699\n",
      "[2800]\tvalidation_0-logloss:0.45198\tvalidation_1-logloss:0.48693\n",
      "[2881]\tvalidation_0-logloss:0.45102\tvalidation_1-logloss:0.48690\n",
      "(2833), \n",
      "#########################\n",
      "### Fold 2\n",
      "#########################\n",
      "[0]\tvalidation_0-logloss:0.69031\tvalidation_1-logloss:0.69031\n",
      "[100]\tvalidation_0-logloss:0.55580\tvalidation_1-logloss:0.55632\n",
      "[200]\tvalidation_0-logloss:0.52161\tvalidation_1-logloss:0.52320\n",
      "[300]\tvalidation_0-logloss:0.50817\tvalidation_1-logloss:0.51125\n",
      "[400]\tvalidation_0-logloss:0.50037\tvalidation_1-logloss:0.50525\n",
      "[500]\tvalidation_0-logloss:0.49486\tvalidation_1-logloss:0.50160\n",
      "[600]\tvalidation_0-logloss:0.49071\tvalidation_1-logloss:0.49928\n",
      "[700]\tvalidation_0-logloss:0.48726\tvalidation_1-logloss:0.49773\n",
      "[800]\tvalidation_0-logloss:0.48429\tvalidation_1-logloss:0.49655\n",
      "[900]\tvalidation_0-logloss:0.48163\tvalidation_1-logloss:0.49574\n",
      "[1000]\tvalidation_0-logloss:0.47917\tvalidation_1-logloss:0.49501\n",
      "[1100]\tvalidation_0-logloss:0.47692\tvalidation_1-logloss:0.49442\n",
      "[1200]\tvalidation_0-logloss:0.47481\tvalidation_1-logloss:0.49400\n",
      "[1300]\tvalidation_0-logloss:0.47276\tvalidation_1-logloss:0.49358\n",
      "[1400]\tvalidation_0-logloss:0.47089\tvalidation_1-logloss:0.49322\n",
      "[1500]\tvalidation_0-logloss:0.46910\tvalidation_1-logloss:0.49295\n",
      "[1600]\tvalidation_0-logloss:0.46736\tvalidation_1-logloss:0.49275\n",
      "[1700]\tvalidation_0-logloss:0.46570\tvalidation_1-logloss:0.49254\n",
      "[1800]\tvalidation_0-logloss:0.46416\tvalidation_1-logloss:0.49237\n",
      "[1900]\tvalidation_0-logloss:0.46268\tvalidation_1-logloss:0.49227\n",
      "[2000]\tvalidation_0-logloss:0.46121\tvalidation_1-logloss:0.49213\n",
      "[2100]\tvalidation_0-logloss:0.45979\tvalidation_1-logloss:0.49204\n",
      "[2200]\tvalidation_0-logloss:0.45843\tvalidation_1-logloss:0.49197\n",
      "[2300]\tvalidation_0-logloss:0.45702\tvalidation_1-logloss:0.49191\n",
      "[2400]\tvalidation_0-logloss:0.45568\tvalidation_1-logloss:0.49186\n",
      "[2500]\tvalidation_0-logloss:0.45439\tvalidation_1-logloss:0.49180\n",
      "[2600]\tvalidation_0-logloss:0.45312\tvalidation_1-logloss:0.49177\n",
      "[2626]\tvalidation_0-logloss:0.45279\tvalidation_1-logloss:0.49176\n",
      "(2577), \n",
      "#########################\n",
      "### Fold 3\n",
      "#########################\n",
      "[0]\tvalidation_0-logloss:0.69030\tvalidation_1-logloss:0.69036\n",
      "[100]\tvalidation_0-logloss:0.55517\tvalidation_1-logloss:0.55896\n",
      "[200]\tvalidation_0-logloss:0.52037\tvalidation_1-logloss:0.52624\n",
      "[300]\tvalidation_0-logloss:0.50686\tvalidation_1-logloss:0.51457\n",
      "[400]\tvalidation_0-logloss:0.49912\tvalidation_1-logloss:0.50879\n",
      "[500]\tvalidation_0-logloss:0.49372\tvalidation_1-logloss:0.50536\n",
      "[600]\tvalidation_0-logloss:0.48964\tvalidation_1-logloss:0.50312\n",
      "[700]\tvalidation_0-logloss:0.48625\tvalidation_1-logloss:0.50163\n",
      "[800]\tvalidation_0-logloss:0.48331\tvalidation_1-logloss:0.50048\n",
      "[900]\tvalidation_0-logloss:0.48064\tvalidation_1-logloss:0.49960\n",
      "[1000]\tvalidation_0-logloss:0.47825\tvalidation_1-logloss:0.49887\n",
      "[1100]\tvalidation_0-logloss:0.47609\tvalidation_1-logloss:0.49827\n",
      "[1200]\tvalidation_0-logloss:0.47398\tvalidation_1-logloss:0.49784\n",
      "[1300]\tvalidation_0-logloss:0.47201\tvalidation_1-logloss:0.49747\n",
      "[1400]\tvalidation_0-logloss:0.47020\tvalidation_1-logloss:0.49716\n",
      "[1500]\tvalidation_0-logloss:0.46846\tvalidation_1-logloss:0.49692\n",
      "[1600]\tvalidation_0-logloss:0.46683\tvalidation_1-logloss:0.49673\n",
      "[1700]\tvalidation_0-logloss:0.46517\tvalidation_1-logloss:0.49653\n",
      "[1800]\tvalidation_0-logloss:0.46361\tvalidation_1-logloss:0.49634\n",
      "[1900]\tvalidation_0-logloss:0.46213\tvalidation_1-logloss:0.49615\n",
      "[2000]\tvalidation_0-logloss:0.46066\tvalidation_1-logloss:0.49607\n",
      "[2100]\tvalidation_0-logloss:0.45917\tvalidation_1-logloss:0.49598\n",
      "[2200]\tvalidation_0-logloss:0.45779\tvalidation_1-logloss:0.49586\n",
      "[2300]\tvalidation_0-logloss:0.45634\tvalidation_1-logloss:0.49577\n",
      "[2400]\tvalidation_0-logloss:0.45501\tvalidation_1-logloss:0.49569\n",
      "[2500]\tvalidation_0-logloss:0.45368\tvalidation_1-logloss:0.49566\n",
      "[2600]\tvalidation_0-logloss:0.45241\tvalidation_1-logloss:0.49562\n",
      "[2700]\tvalidation_0-logloss:0.45116\tvalidation_1-logloss:0.49557\n",
      "[2800]\tvalidation_0-logloss:0.44989\tvalidation_1-logloss:0.49552\n",
      "[2900]\tvalidation_0-logloss:0.44865\tvalidation_1-logloss:0.49548\n",
      "[2926]\tvalidation_0-logloss:0.44833\tvalidation_1-logloss:0.49547\n",
      "(2877), \n",
      "#########################\n",
      "### Fold 4\n",
      "#########################\n",
      "[0]\tvalidation_0-logloss:0.69031\tvalidation_1-logloss:0.69033\n",
      "[100]\tvalidation_0-logloss:0.55580\tvalidation_1-logloss:0.55704\n",
      "[200]\tvalidation_0-logloss:0.52129\tvalidation_1-logloss:0.52346\n",
      "[300]\tvalidation_0-logloss:0.50778\tvalidation_1-logloss:0.51102\n",
      "[400]\tvalidation_0-logloss:0.50012\tvalidation_1-logloss:0.50487\n",
      "[500]\tvalidation_0-logloss:0.49474\tvalidation_1-logloss:0.50110\n",
      "[600]\tvalidation_0-logloss:0.49062\tvalidation_1-logloss:0.49875\n",
      "[700]\tvalidation_0-logloss:0.48714\tvalidation_1-logloss:0.49713\n",
      "[800]\tvalidation_0-logloss:0.48410\tvalidation_1-logloss:0.49594\n",
      "[900]\tvalidation_0-logloss:0.48134\tvalidation_1-logloss:0.49502\n",
      "[1000]\tvalidation_0-logloss:0.47881\tvalidation_1-logloss:0.49437\n",
      "[1100]\tvalidation_0-logloss:0.47651\tvalidation_1-logloss:0.49385\n",
      "[1200]\tvalidation_0-logloss:0.47444\tvalidation_1-logloss:0.49346\n",
      "[1300]\tvalidation_0-logloss:0.47247\tvalidation_1-logloss:0.49318\n",
      "[1400]\tvalidation_0-logloss:0.47053\tvalidation_1-logloss:0.49285\n",
      "[1500]\tvalidation_0-logloss:0.46866\tvalidation_1-logloss:0.49260\n",
      "[1600]\tvalidation_0-logloss:0.46696\tvalidation_1-logloss:0.49243\n",
      "[1700]\tvalidation_0-logloss:0.46534\tvalidation_1-logloss:0.49226\n",
      "[1800]\tvalidation_0-logloss:0.46369\tvalidation_1-logloss:0.49213\n",
      "[1900]\tvalidation_0-logloss:0.46217\tvalidation_1-logloss:0.49202\n",
      "[2000]\tvalidation_0-logloss:0.46068\tvalidation_1-logloss:0.49194\n",
      "[2100]\tvalidation_0-logloss:0.45928\tvalidation_1-logloss:0.49187\n",
      "[2200]\tvalidation_0-logloss:0.45789\tvalidation_1-logloss:0.49176\n",
      "[2300]\tvalidation_0-logloss:0.45656\tvalidation_1-logloss:0.49166\n",
      "[2400]\tvalidation_0-logloss:0.45522\tvalidation_1-logloss:0.49159\n",
      "[2500]\tvalidation_0-logloss:0.45391\tvalidation_1-logloss:0.49157\n",
      "[2597]\tvalidation_0-logloss:0.45262\tvalidation_1-logloss:0.49153\n",
      "(2548), \n",
      "#########################\n",
      "### Fold 5\n",
      "#########################\n",
      "[0]\tvalidation_0-logloss:0.69032\tvalidation_1-logloss:0.69033\n",
      "[100]\tvalidation_0-logloss:0.55567\tvalidation_1-logloss:0.55740\n",
      "[200]\tvalidation_0-logloss:0.52090\tvalidation_1-logloss:0.52439\n",
      "[300]\tvalidation_0-logloss:0.50720\tvalidation_1-logloss:0.51246\n",
      "[400]\tvalidation_0-logloss:0.49948\tvalidation_1-logloss:0.50668\n",
      "[500]\tvalidation_0-logloss:0.49407\tvalidation_1-logloss:0.50321\n",
      "[600]\tvalidation_0-logloss:0.48994\tvalidation_1-logloss:0.50096\n",
      "[700]\tvalidation_0-logloss:0.48658\tvalidation_1-logloss:0.49940\n",
      "[800]\tvalidation_0-logloss:0.48363\tvalidation_1-logloss:0.49821\n",
      "[900]\tvalidation_0-logloss:0.48094\tvalidation_1-logloss:0.49729\n",
      "[1000]\tvalidation_0-logloss:0.47844\tvalidation_1-logloss:0.49662\n",
      "[1100]\tvalidation_0-logloss:0.47621\tvalidation_1-logloss:0.49608\n",
      "[1200]\tvalidation_0-logloss:0.47413\tvalidation_1-logloss:0.49566\n",
      "[1300]\tvalidation_0-logloss:0.47218\tvalidation_1-logloss:0.49528\n",
      "[1400]\tvalidation_0-logloss:0.47032\tvalidation_1-logloss:0.49492\n",
      "[1500]\tvalidation_0-logloss:0.46850\tvalidation_1-logloss:0.49466\n",
      "[1600]\tvalidation_0-logloss:0.46686\tvalidation_1-logloss:0.49449\n",
      "[1700]\tvalidation_0-logloss:0.46528\tvalidation_1-logloss:0.49427\n",
      "[1800]\tvalidation_0-logloss:0.46371\tvalidation_1-logloss:0.49414\n",
      "[1900]\tvalidation_0-logloss:0.46228\tvalidation_1-logloss:0.49397\n",
      "[2000]\tvalidation_0-logloss:0.46079\tvalidation_1-logloss:0.49385\n",
      "[2100]\tvalidation_0-logloss:0.45931\tvalidation_1-logloss:0.49371\n",
      "[2200]\tvalidation_0-logloss:0.45795\tvalidation_1-logloss:0.49364\n",
      "[2300]\tvalidation_0-logloss:0.45656\tvalidation_1-logloss:0.49350\n",
      "[2400]\tvalidation_0-logloss:0.45520\tvalidation_1-logloss:0.49337\n",
      "[2500]\tvalidation_0-logloss:0.45392\tvalidation_1-logloss:0.49331\n",
      "[2600]\tvalidation_0-logloss:0.45271\tvalidation_1-logloss:0.49324\n",
      "[2700]\tvalidation_0-logloss:0.45145\tvalidation_1-logloss:0.49317\n",
      "[2800]\tvalidation_0-logloss:0.45025\tvalidation_1-logloss:0.49316\n",
      "[2900]\tvalidation_0-logloss:0.44907\tvalidation_1-logloss:0.49308\n",
      "[2999]\tvalidation_0-logloss:0.44794\tvalidation_1-logloss:0.49302\n",
      "(2996), \n"
     ]
    }
   ],
   "source": [
    "n_splits=5\n",
    "gkf = GroupKFold(n_splits=n_splits)\n",
    "oof = np.zeros(X.shape[0])\n",
    "models = {}\n",
    "\n",
    "# COMPUTE CV SCORE WITH 5 GROUP K FOLD\n",
    "for i, (train_index, valid_index) in enumerate(gkf.split(X, groups=X['session'])):\n",
    "    print('#'*25)\n",
    "    print('### Fold',i+1)\n",
    "    print('#'*25)\n",
    "\n",
    "    xgb_params = {\n",
    "        'objective' : 'binary:logistic',\n",
    "        'eval_metric':'logloss',\n",
    "        'learning_rate': 0.01,\n",
    "        'max_depth': 5,\n",
    "        'n_estimators': 3000,\n",
    "        'early_stopping_rounds': 50,\n",
    "        'tree_method':'gpu_hist',\n",
    "        'subsample':0.8,\n",
    "        'colsample_bytree': 0.8,\n",
    "        'tree_method': 'gpu_hist',\n",
    "        'seed':42,\n",
    "        'use_label_encoder' : False}\n",
    "\n",
    "    X_train = X.iloc[train_index][FEATURES]\n",
    "    X_valid = X.iloc[valid_index][FEATURES]\n",
    "    y_train = X.iloc[train_index]['correct'].values\n",
    "    y_valid = X.iloc[valid_index]['correct'].values\n",
    "        # TRAIN MODEL\n",
    "    clf =  XGBClassifier(**xgb_params)\n",
    "    clf.fit(X_train.astype('float32'), y_train,\n",
    "            eval_set=[(X_train.astype('float32'), y_train), (X_valid.astype('float32'),y_valid)],\n",
    "            verbose=100)\n",
    "    print(f'({clf.best_ntree_limit}), ',end='')\n",
    "\n",
    "        # SAVE MODEL, PREDICT VALID OOF\n",
    "    models[i] = clf\n",
    "    oof[valid_index] = clf.predict_proba(X_valid)[:,1]\n",
    "\n",
    "    print()"
   ]
  },
  {
   "cell_type": "code",
   "execution_count": 125,
   "id": "d7a3082d-eb25-4472-a5c0-8efb3400c193",
   "metadata": {},
   "outputs": [],
   "source": [
    "import matplotlib.pyplot as plt\n",
    "import seaborn as sns\n",
    "def plot_feature_importance(importance,names,model_type):\n",
    "\n",
    "    #Create arrays from feature importance and feature names\n",
    "    feature_importance = np.array(importance)\n",
    "    feature_names = np.array(names)\n",
    "\n",
    "    #Create a DataFrame using a Dictionary\n",
    "    data={'feature_names':feature_names,'feature_importance':feature_importance}\n",
    "    fi_df = pd.DataFrame(data)\n",
    "\n",
    "    #Sort the DataFrame in order decreasing feature importance\n",
    "    fi_df.sort_values(by=['feature_importance'], ascending=False,inplace=True)\n",
    "    fi_df = fi_df.tail(50)\n",
    "    #Define size of bar plot\n",
    "    plt.figure(figsize=(20,10))\n",
    "    #Plot Searborn bar chart\n",
    "    sns.barplot(x=fi_df['feature_importance'], y=fi_df['feature_names'])\n",
    "    #Add chart labels\n",
    "    plt.title(model_type + 'FEATURE IMPORTANCE')\n",
    "    plt.xlabel('FEATURE IMPORTANCE')\n",
    "    plt.ylabel('FEATURE NAMES')"
   ]
  },
  {
   "cell_type": "code",
   "execution_count": 126,
   "id": "e8551de3-8b9c-4526-a706-69cad7d78c62",
   "metadata": {},
   "outputs": [
    {
     "data": {
      "image/png": "[encoded data removed]",
      "text/plain": [
       "<Figure size 1440x720 with 1 Axes>"
      ]
     },
     "metadata": {
      "needs_background": "light"
     },
     "output_type": "display_data"
    }
   ],
   "source": [
    "feat_imp = {}\n",
    "for k, v in models.items():\n",
    "    for x, y in zip(v.feature_importances_, v.feature_names_in_):\n",
    "        if y not in feat_imp:\n",
    "            feat_imp[y] = x\n",
    "        else:\n",
    "            feat_imp[y]+=x\n",
    "plot_feature_importance(list(feat_imp.values()),list(feat_imp.keys()),'')"
   ]
  },
  {
   "cell_type": "code",
   "execution_count": 131,
   "id": "dbe4a3ab-d1a2-4418-8594-4ae0ac9a25e0",
   "metadata": {},
   "outputs": [
    {
     "name": "stdout",
     "output_type": "stream",
     "text": [
      "0.38, 0.39, 0.40, 0.41, 0.42, 0.43, 0.44, 0.45, 0.46, 0.47, 0.48, 0.49, 0.50, 0.51, 0.52, 0.53, 0.54, 0.55, 0.56, 0.57, 0.58, 0.59, 0.60, 0.61, 0.62, 0.63, 0.64, 0.65, 0.66, 0.67, 0.68, 0.69, 0.70, 0.71, 0.72, 0.73, 0.74, 0.75, 0.76, 0.77, 0.78, 0.79, 0.80, 0.81, 0.82, 0.83, 0.84, 0.85, 0.86, 0.87, 0.88, 0.89, 0.90, 0.91, "
     ]
    }
   ],
   "source": [
    "scores = []; thresholds = []\n",
    "best_score = 0; best_threshold = 0\n",
    "\n",
    "for threshold in np.arange(0.38,0.92,0.01):\n",
    "    print(f'{threshold:.02f}, ',end='')\n",
    "    preds = (oof>threshold).astype('int')\n",
    "    m = f1_score(X['correct'], preds, average='macro')\n",
    "    scores.append(m)\n",
    "    thresholds.append(threshold)\n",
    "    if m>best_score:\n",
    "        best_score = m\n",
    "        best_threshold = threshold"
   ]
  },
  {
   "cell_type": "code",
   "execution_count": 132,
   "id": "44f1e0a3-6bda-4393-aacb-80423dd298a5",
   "metadata": {},
   "outputs": [
    {
     "data": {
      "image/png": "[encoded data removed]",
      "text/plain": [
       "<Figure size 1440x360 with 1 Axes>"
      ]
     },
     "metadata": {
      "needs_background": "light"
     },
     "output_type": "display_data"
    }
   ],
   "source": [
    "import matplotlib.pyplot as plt\n",
    "\n",
    "# PLOT THRESHOLD VS. F1_SCORE\n",
    "plt.figure(figsize=(20,5))\n",
    "plt.plot(thresholds,scores,'-o',color='blue')\n",
    "plt.scatter([best_threshold], [best_score], color='blue', s=300, alpha=1)\n",
    "plt.xlabel('Threshold',size=14)\n",
    "plt.ylabel('Validation F1 Score',size=14)\n",
    "plt.title(f'Threshold vs. F1_Score with Best F1_Score = {best_score:.4f} at Best Threshold = {best_threshold:.3}',size=18)\n",
    "plt.show()"
   ]
  },
  {
   "cell_type": "code",
   "execution_count": 135,
   "id": "0d9c1e87-8335-4ba1-aa01-237de08d1050",
   "metadata": {},
   "outputs": [],
   "source": [
    "xgb_params = {\n",
    "        'objective' : 'binary:logistic',\n",
    "        'eval_metric':'logloss',\n",
    "        'learning_rate': 0.01,\n",
    "        'max_depth': 5,\n",
    "        'n_estimators': 3000,\n",
    "        'subsample':0.8,\n",
    "        'colsample_bytree': 0.8,\n",
    "        'tree_method': 'gpu_hist',\n",
    "        'seed':42,\n",
    "        'use_label_encoder' : False}"
   ]
  },
  {
   "cell_type": "code",
   "execution_count": 136,
   "id": "97a9a1a7-b5c4-4a44-a8d8-94974869f0f6",
   "metadata": {},
   "outputs": [],
   "source": [
    "clf =  XGBClassifier(**xgb_params)"
   ]
  },
  {
   "cell_type": "code",
   "execution_count": 137,
   "id": "e0009fdf-d18d-44bf-8c2a-30a973bdc3be",
   "metadata": {},
   "outputs": [
    {
     "data": {
      "text/html": [
       "<style>#sk-container-id-1 {color: black;background-color: white;}#sk-container-id-1 pre{padding: 0;}#sk-container-id-1 div.sk-toggleable {background-color: white;}#sk-container-id-1 label.sk-toggleable__label {cursor: pointer;display: block;width: 100%;margin-bottom: 0;padding: 0.3em;box-sizing: border-box;text-align: center;}#sk-container-id-1 label.sk-toggleable__label-arrow:before {content: \"▸\";float: left;margin-right: 0.25em;color: #696969;}#sk-container-id-1 label.sk-toggleable__label-arrow:hover:before {color: black;}#sk-container-id-1 div.sk-estimator:hover label.sk-toggleable__label-arrow:before {color: black;}#sk-container-id-1 div.sk-toggleable__content {max-height: 0;max-width: 0;overflow: hidden;text-align: left;background-color: #f0f8ff;}#sk-container-id-1 div.sk-toggleable__content pre {margin: 0.2em;color: black;border-radius: 0.25em;background-color: #f0f8ff;}#sk-container-id-1 input.sk-toggleable__control:checked~div.sk-toggleable__content {max-height: 200px;max-width: 100%;overflow: auto;}#sk-container-id-1 input.sk-toggleable__control:checked~label.sk-toggleable__label-arrow:before {content: \"▾\";}#sk-container-id-1 div.sk-estimator input.sk-toggleable__control:checked~label.sk-toggleable__label {background-color: #d4ebff;}#sk-container-id-1 div.sk-label input.sk-toggleable__control:checked~label.sk-toggleable__label {background-color: #d4ebff;}#sk-container-id-1 input.sk-hidden--visually {border: 0;clip: rect(1px 1px 1px 1px);clip: rect(1px, 1px, 1px, 1px);height: 1px;margin: -1px;overflow: hidden;padding: 0;position: absolute;width: 1px;}#sk-container-id-1 div.sk-estimator {font-family: monospace;background-color: #f0f8ff;border: 1px dotted black;border-radius: 0.25em;box-sizing: border-box;margin-bottom: 0.5em;}#sk-container-id-1 div.sk-estimator:hover {background-color: #d4ebff;}#sk-container-id-1 div.sk-parallel-item::after {content: \"\";width: 100%;border-bottom: 1px solid gray;flex-grow: 1;}#sk-container-id-1 div.sk-label:hover label.sk-toggleable__label {background-color: #d4ebff;}#sk-container-id-1 div.sk-serial::before {content: \"\";position: absolute;border-left: 1px solid gray;box-sizing: border-box;top: 0;bottom: 0;left: 50%;z-index: 0;}#sk-container-id-1 div.sk-serial {display: flex;flex-direction: column;align-items: center;background-color: white;padding-right: 0.2em;padding-left: 0.2em;position: relative;}#sk-container-id-1 div.sk-item {position: relative;z-index: 1;}#sk-container-id-1 div.sk-parallel {display: flex;align-items: stretch;justify-content: center;background-color: white;position: relative;}#sk-container-id-1 div.sk-item::before, #sk-container-id-1 div.sk-parallel-item::before {content: \"\";position: absolute;border-left: 1px solid gray;box-sizing: border-box;top: 0;bottom: 0;left: 50%;z-index: -1;}#sk-container-id-1 div.sk-parallel-item {display: flex;flex-direction: column;z-index: 1;position: relative;background-color: white;}#sk-container-id-1 div.sk-parallel-item:first-child::after {align-self: flex-end;width: 50%;}#sk-container-id-1 div.sk-parallel-item:last-child::after {align-self: flex-start;width: 50%;}#sk-container-id-1 div.sk-parallel-item:only-child::after {width: 0;}#sk-container-id-1 div.sk-dashed-wrapped {border: 1px dashed gray;margin: 0 0.4em 0.5em 0.4em;box-sizing: border-box;padding-bottom: 0.4em;background-color: white;}#sk-container-id-1 div.sk-label label {font-family: monospace;font-weight: bold;display: inline-block;line-height: 1.2em;}#sk-container-id-1 div.sk-label-container {text-align: center;}#sk-container-id-1 div.sk-container {/* jupyter's `normalize.less` sets `[hidden] { display: none; }` but bootstrap.min.css set `[hidden] { display: none !important; }` so we also need the `!important` here to be able to override the default hidden behavior on the sphinx rendered scikit-learn.org. See: https://github.com/scikit-learn/scikit-learn/issues/21755 */display: inline-block !important;position: relative;}#sk-container-id-1 div.sk-text-repr-fallback {display: none;}</style><div id=\"sk-container-id-1\" class=\"sk-top-container\"><div class=\"sk-text-repr-fallback\"><pre>XGBClassifier(base_score=0.5, booster=&#x27;gbtree&#x27;, callbacks=None,\n",
       "              colsample_bylevel=1, colsample_bynode=1, colsample_bytree=0.8,\n",
       "              early_stopping_rounds=None, enable_categorical=False,\n",
       "              eval_metric=&#x27;logloss&#x27;, gamma=0, gpu_id=0, grow_policy=&#x27;depthwise&#x27;,\n",
       "              importance_type=None, interaction_constraints=&#x27;&#x27;,\n",
       "              learning_rate=0.01, max_bin=256, max_cat_to_onehot=4,\n",
       "              max_delta_step=0, max_depth=5, max_leaves=0, min_child_weight=1,\n",
       "              missing=nan, monotone_constraints=&#x27;()&#x27;, n_estimators=3000,\n",
       "              n_jobs=0, num_parallel_tree=1, predictor=&#x27;auto&#x27;, random_state=42,\n",
       "              reg_alpha=0, reg_lambda=1, ...)</pre><b>In a Jupyter environment, please rerun this cell to show the HTML representation or trust the notebook. <br />On GitHub, the HTML representation is unable to render, please try loading this page with nbviewer.org.</b></div><div class=\"sk-container\" hidden><div class=\"sk-item\"><div class=\"sk-estimator sk-toggleable\"><input class=\"sk-toggleable__control sk-hidden--visually\" id=\"sk-estimator-id-1\" type=\"checkbox\" checked><label for=\"sk-estimator-id-1\" class=\"sk-toggleable__label sk-toggleable__label-arrow\">XGBClassifier</label><div class=\"sk-toggleable__content\"><pre>XGBClassifier(base_score=0.5, booster=&#x27;gbtree&#x27;, callbacks=None,\n",
       "              colsample_bylevel=1, colsample_bynode=1, colsample_bytree=0.8,\n",
       "              early_stopping_rounds=None, enable_categorical=False,\n",
       "              eval_metric=&#x27;logloss&#x27;, gamma=0, gpu_id=0, grow_policy=&#x27;depthwise&#x27;,\n",
       "              importance_type=None, interaction_constraints=&#x27;&#x27;,\n",
       "              learning_rate=0.01, max_bin=256, max_cat_to_onehot=4,\n",
       "              max_delta_step=0, max_depth=5, max_leaves=0, min_child_weight=1,\n",
       "              missing=nan, monotone_constraints=&#x27;()&#x27;, n_estimators=3000,\n",
       "              n_jobs=0, num_parallel_tree=1, predictor=&#x27;auto&#x27;, random_state=42,\n",
       "              reg_alpha=0, reg_lambda=1, ...)</pre></div></div></div></div></div>"
      ],
      "text/plain": [
       "XGBClassifier(base_score=0.5, booster='gbtree', callbacks=None,\n",
       "              colsample_bylevel=1, colsample_bynode=1, colsample_bytree=0.8,\n",
       "              early_stopping_rounds=None, enable_categorical=False,\n",
       "              eval_metric='logloss', gamma=0, gpu_id=0, grow_policy='depthwise',\n",
       "              importance_type=None, interaction_constraints='',\n",
       "              learning_rate=0.01, max_bin=256, max_cat_to_onehot=4,\n",
       "              max_delta_step=0, max_depth=5, max_leaves=0, min_child_weight=1,\n",
       "              missing=nan, monotone_constraints='()', n_estimators=3000,\n",
       "              n_jobs=0, num_parallel_tree=1, predictor='auto', random_state=42,\n",
       "              reg_alpha=0, reg_lambda=1, ...)"
      ]
     },
     "execution_count": 137,
     "metadata": {},
     "output_type": "execute_result"
    }
   ],
   "source": [
    "clf.fit(X[FEATURES],X['correct'])"
   ]
  },
  {
   "cell_type": "code",
   "execution_count": 140,
   "id": "22cb442b-f4a7-440f-b984-ff10984e21be",
   "metadata": {},
   "outputs": [],
   "source": [
    "clf.save_model('student-performance.json')"
   ]
  },
  {
   "cell_type": "code",
   "execution_count": 142,
   "id": "a6a3d4d5-ab58-43e9-b9ec-0892f17b6c3b",
   "metadata": {},
   "outputs": [
    {
     "data": {
      "text/plain": [
       "array(['text_fqid', 'checkpoint_click_sum',\n",
       "       'checkpoint_click_historicalsociety_sum',\n",
       "       'checkpoint_click_kohlcenter_sum',\n",
       "       'checkpoint_click_capitol_0_sum',\n",
       "       'checkpoint_click_humanecology_sum',\n",
       "       'checkpoint_click_drycleaner_sum', 'checkpoint_click_library_sum',\n",
       "       'checkpoint_click_capitol_1_sum', 'checkpoint_click_wildlife_sum',\n",
       "       'checkpoint_click_flaghouse_sum', 'checkpoint_click_capitol_2_sum',\n",
       "       'cutscene_click_sum', 'cutscene_click_historicalsociety_sum',\n",
       "       'cutscene_click_kohlcenter_sum', 'cutscene_click_capitol_0_sum',\n",
       "       'cutscene_click_humanecology_sum', 'cutscene_click_drycleaner_sum',\n",
       "       'cutscene_click_library_sum', 'cutscene_click_capitol_1_sum',\n",
       "       'cutscene_click_wildlife_sum', 'cutscene_click_flaghouse_sum',\n",
       "       'cutscene_click_capitol_2_sum', 'person_click_sum',\n",
       "       'person_click_historicalsociety_sum',\n",
       "       'person_click_kohlcenter_sum', 'person_click_capitol_0_sum',\n",
       "       'person_click_humanecology_sum', 'person_click_drycleaner_sum',\n",
       "       'person_click_library_sum', 'person_click_capitol_1_sum',\n",
       "       'person_click_wildlife_sum', 'person_click_flaghouse_sum',\n",
       "       'person_click_capitol_2_sum', 'navigate_click_sum',\n",
       "       'navigate_click_historicalsociety_sum',\n",
       "       'navigate_click_kohlcenter_sum', 'navigate_click_capitol_0_sum',\n",
       "       'navigate_click_humanecology_sum', 'navigate_click_drycleaner_sum',\n",
       "       'navigate_click_library_sum', 'navigate_click_capitol_1_sum',\n",
       "       'navigate_click_wildlife_sum', 'navigate_click_flaghouse_sum',\n",
       "       'navigate_click_capitol_2_sum', 'observation_click_sum',\n",
       "       'observation_click_historicalsociety_sum',\n",
       "       'observation_click_kohlcenter_sum',\n",
       "       'observation_click_capitol_0_sum',\n",
       "       'observation_click_humanecology_sum',\n",
       "       'observation_click_drycleaner_sum',\n",
       "       'observation_click_library_sum', 'observation_click_capitol_1_sum',\n",
       "       'observation_click_wildlife_sum',\n",
       "       'observation_click_flaghouse_sum',\n",
       "       'observation_click_capitol_2_sum', 'notification_click_sum',\n",
       "       'notification_click_historicalsociety_sum',\n",
       "       'notification_click_kohlcenter_sum',\n",
       "       'notification_click_capitol_0_sum',\n",
       "       'notification_click_humanecology_sum',\n",
       "       'notification_click_drycleaner_sum',\n",
       "       'notification_click_library_sum',\n",
       "       'notification_click_capitol_1_sum',\n",
       "       'notification_click_wildlife_sum',\n",
       "       'notification_click_flaghouse_sum',\n",
       "       'notification_click_capitol_2_sum', 'object_click_sum',\n",
       "       'object_click_historicalsociety_sum',\n",
       "       'object_click_kohlcenter_sum', 'object_click_capitol_0_sum',\n",
       "       'object_click_humanecology_sum', 'object_click_drycleaner_sum',\n",
       "       'object_click_library_sum', 'object_click_capitol_1_sum',\n",
       "       'object_click_wildlife_sum', 'object_click_flaghouse_sum',\n",
       "       'object_click_capitol_2_sum', 'object_hover_sum',\n",
       "       'object_hover_historicalsociety_sum',\n",
       "       'object_hover_kohlcenter_sum', 'object_hover_capitol_0_sum',\n",
       "       'object_hover_humanecology_sum', 'object_hover_drycleaner_sum',\n",
       "       'object_hover_library_sum', 'object_hover_capitol_1_sum',\n",
       "       'object_hover_wildlife_sum', 'object_hover_flaghouse_sum',\n",
       "       'object_hover_capitol_2_sum', 'map_hover_sum',\n",
       "       'map_hover_historicalsociety_sum', 'map_hover_kohlcenter_sum',\n",
       "       'map_hover_capitol_0_sum', 'map_hover_humanecology_sum',\n",
       "       'map_hover_drycleaner_sum', 'map_hover_library_sum',\n",
       "       'map_hover_capitol_1_sum', 'map_hover_wildlife_sum',\n",
       "       'map_hover_flaghouse_sum', 'map_hover_capitol_2_sum',\n",
       "       'map_click_sum', 'map_click_historicalsociety_sum',\n",
       "       'map_click_kohlcenter_sum', 'map_click_capitol_0_sum',\n",
       "       'map_click_humanecology_sum', 'map_click_drycleaner_sum',\n",
       "       'map_click_library_sum', 'map_click_capitol_1_sum',\n",
       "       'map_click_wildlife_sum', 'map_click_flaghouse_sum',\n",
       "       'map_click_capitol_2_sum', 'notebook_click_sum',\n",
       "       'notebook_click_historicalsociety_sum',\n",
       "       'notebook_click_kohlcenter_sum', 'notebook_click_capitol_0_sum',\n",
       "       'notebook_click_humanecology_sum', 'notebook_click_drycleaner_sum',\n",
       "       'notebook_click_library_sum', 'notebook_click_capitol_1_sum',\n",
       "       'notebook_click_wildlife_sum', 'notebook_click_flaghouse_sum',\n",
       "       'notebook_click_capitol_2_sum', 'historicalsociety_sum',\n",
       "       'kohlcenter_sum', 'capitol_0_sum', 'humanecology_sum',\n",
       "       'drycleaner_sum', 'library_sum', 'capitol_1_sum', 'wildlife_sum',\n",
       "       'flaghouse_sum', 'capitol_2_sum', 'page_mean', 'page_max',\n",
       "       'page_min', 'page_std', 'room_coor_x_mean', 'room_coor_x_max',\n",
       "       'room_coor_x_min', 'room_coor_x_std', 'room_coor_y_mean',\n",
       "       'room_coor_y_max', 'room_coor_y_min', 'room_coor_y_std',\n",
       "       'screen_coor_x_mean', 'screen_coor_x_max', 'screen_coor_x_min',\n",
       "       'screen_coor_x_std', 'screen_coor_y_mean', 'screen_coor_y_max',\n",
       "       'screen_coor_y_min', 'screen_coor_y_std', 'hover_duration_mean',\n",
       "       'hover_duration_max', 'hover_duration_min', 'hover_duration_std',\n",
       "       'elapsed_time_diff_mean', 'elapsed_time_diff_std',\n",
       "       'elapsed_time_diff_max', 'elapsed_time_diff_min', 'duration',\n",
       "       'elapsed_time_diff_positive',\n",
       "       'elapsed_time_diff_checkpoint_click_mean',\n",
       "       'elapsed_time_diff_checkpoint_click_max',\n",
       "       'elapsed_time_diff_checkpoint_click_min',\n",
       "       'elapsed_time_diff_cutscene_click_mean',\n",
       "       'elapsed_time_diff_cutscene_click_max',\n",
       "       'elapsed_time_diff_cutscene_click_min',\n",
       "       'elapsed_time_diff_person_click_mean',\n",
       "       'elapsed_time_diff_person_click_max',\n",
       "       'elapsed_time_diff_person_click_min',\n",
       "       'elapsed_time_diff_navigate_click_mean',\n",
       "       'elapsed_time_diff_navigate_click_max',\n",
       "       'elapsed_time_diff_navigate_click_min',\n",
       "       'elapsed_time_diff_observation_click_mean',\n",
       "       'elapsed_time_diff_observation_click_max',\n",
       "       'elapsed_time_diff_observation_click_min',\n",
       "       'elapsed_time_diff_notification_click_mean',\n",
       "       'elapsed_time_diff_notification_click_max',\n",
       "       'elapsed_time_diff_notification_click_min',\n",
       "       'elapsed_time_diff_object_click_mean',\n",
       "       'elapsed_time_diff_object_click_max',\n",
       "       'elapsed_time_diff_object_click_min',\n",
       "       'elapsed_time_diff_object_hover_mean',\n",
       "       'elapsed_time_diff_object_hover_max',\n",
       "       'elapsed_time_diff_object_hover_min',\n",
       "       'elapsed_time_diff_map_hover_mean',\n",
       "       'elapsed_time_diff_map_hover_max',\n",
       "       'elapsed_time_diff_map_hover_min',\n",
       "       'elapsed_time_diff_map_click_mean',\n",
       "       'elapsed_time_diff_map_click_max',\n",
       "       'elapsed_time_diff_map_click_min',\n",
       "       'elapsed_time_diff_notebook_click_mean',\n",
       "       'elapsed_time_diff_notebook_click_max',\n",
       "       'elapsed_time_diff_notebook_click_min',\n",
       "       'elapsed_time_diff_historicalsociety_mean',\n",
       "       'elapsed_time_diff_historicalsociety_max',\n",
       "       'elapsed_time_diff_historicalsociety_min',\n",
       "       'elapsed_time_diff_kohlcenter_mean',\n",
       "       'elapsed_time_diff_kohlcenter_max',\n",
       "       'elapsed_time_diff_kohlcenter_min',\n",
       "       'elapsed_time_diff_capitol_0_mean',\n",
       "       'elapsed_time_diff_capitol_0_max',\n",
       "       'elapsed_time_diff_capitol_0_min',\n",
       "       'elapsed_time_diff_humanecology_mean',\n",
       "       'elapsed_time_diff_humanecology_max',\n",
       "       'elapsed_time_diff_humanecology_min',\n",
       "       'elapsed_time_diff_drycleaner_mean',\n",
       "       'elapsed_time_diff_drycleaner_max',\n",
       "       'elapsed_time_diff_drycleaner_min',\n",
       "       'elapsed_time_diff_library_mean', 'elapsed_time_diff_library_max',\n",
       "       'elapsed_time_diff_library_min',\n",
       "       'elapsed_time_diff_capitol_1_mean',\n",
       "       'elapsed_time_diff_capitol_1_max',\n",
       "       'elapsed_time_diff_capitol_1_min',\n",
       "       'elapsed_time_diff_wildlife_mean',\n",
       "       'elapsed_time_diff_wildlife_max', 'elapsed_time_diff_wildlife_min',\n",
       "       'elapsed_time_diff_flaghouse_mean',\n",
       "       'elapsed_time_diff_flaghouse_max',\n",
       "       'elapsed_time_diff_flaghouse_min',\n",
       "       'elapsed_time_diff_capitol_2_mean',\n",
       "       'elapsed_time_diff_capitol_2_max',\n",
       "       'elapsed_time_diff_capitol_2_min',\n",
       "       'object_per_sum_navigate_object', 'person_per_sum_navigate_object',\n",
       "       'object_per_sum_person_object', 'q1', 'q2', 'q3', 'q4', 'q5', 'q6',\n",
       "       'q7', 'q8', 'q9', 'q10', 'q11', 'q12', 'q13', 'q14', 'q15', 'q16',\n",
       "       'q17', 'q18', '0-4', '5-12', '13-22'], dtype=object)"
      ]
     },
     "execution_count": 142,
     "metadata": {},
     "output_type": "execute_result"
    }
   ],
   "source": [
    "FEATURES.values"
   ]
  },
  {
   "cell_type": "code",
   "execution_count": null,
   "id": "771d6f79-38cd-40f3-9f72-7972dff99c51",
   "metadata": {},
   "outputs": [],
   "source": []
  }
 ],
 "metadata": {
  "kernelspec": {
   "display_name": "Python 3 (ipykernel)",
   "language": "python",
   "name": "python3"
  },
  "language_info": {
   "codemirror_mode": {
    "name": "ipython",
    "version": 3
   },
   "file_extension": ".py",
   "mimetype": "text/x-python",
   "name": "python",
   "nbconvert_exporter": "python",
   "pygments_lexer": "ipython3",
   "version": "3.9.12"
  }
 },
 "nbformat": 4,
 "nbformat_minor": 5
}
