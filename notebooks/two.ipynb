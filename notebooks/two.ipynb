{
 "cells": [
  {
   "cell_type": "code",
   "execution_count": 23,
   "metadata": {
    "collapsed": true
   },
   "outputs": [],
   "source": [
    "import numpy as np # linear algebra\n",
    "import pandas as pd # data processing, CSV file I/O (e.g. pd.read_csv)\n",
    "import os\n",
    "import gc\n",
    "from collections import Counter"
   ]
  },
  {
   "cell_type": "code",
   "execution_count": 24,
   "outputs": [],
   "source": [
    "class Config:\n",
    "    TRAIN_PATH = '../inputs/train.csv'\n",
    "    TEST_PATH = '../inputs/test.csv'\n",
    "    TRAIN_LABELS = '../inputs/train_labels.csv'\n",
    "    SAMPLE_SUBMISSION = '../inputs/sample_submission.csv'"
   ],
   "metadata": {
    "collapsed": false
   }
  },
  {
   "cell_type": "code",
   "execution_count": 25,
   "outputs": [],
   "source": [
    "train_df = pd.read_csv(Config.TRAIN_PATH)\n",
    "train_labels = pd.read_csv(Config.TRAIN_LABELS)"
   ],
   "metadata": {
    "collapsed": false
   }
  },
  {
   "cell_type": "code",
   "execution_count": 26,
   "outputs": [
    {
     "data": {
      "text/plain": "             session_id  correct  question            session\n0  20090312431273200_q1        1         1  20090312431273200\n1  20090312433251036_q1        0         1  20090312433251036\n2  20090314121766812_q1        1         1  20090314121766812\n3  20090314363702160_q1        1         1  20090314363702160\n4  20090314441803444_q1        1         1  20090314441803444",
      "text/html": "<div>\n<style scoped>\n    .dataframe tbody tr th:only-of-type {\n        vertical-align: middle;\n    }\n\n    .dataframe tbody tr th {\n        vertical-align: top;\n    }\n\n    .dataframe thead th {\n        text-align: right;\n    }\n</style>\n<table border=\"1\" class=\"dataframe\">\n  <thead>\n    <tr style=\"text-align: right;\">\n      <th></th>\n      <th>session_id</th>\n      <th>correct</th>\n      <th>question</th>\n      <th>session</th>\n    </tr>\n  </thead>\n  <tbody>\n    <tr>\n      <th>0</th>\n      <td>20090312431273200_q1</td>\n      <td>1</td>\n      <td>1</td>\n      <td>20090312431273200</td>\n    </tr>\n    <tr>\n      <th>1</th>\n      <td>20090312433251036_q1</td>\n      <td>0</td>\n      <td>1</td>\n      <td>20090312433251036</td>\n    </tr>\n    <tr>\n      <th>2</th>\n      <td>20090314121766812_q1</td>\n      <td>1</td>\n      <td>1</td>\n      <td>20090314121766812</td>\n    </tr>\n    <tr>\n      <th>3</th>\n      <td>20090314363702160_q1</td>\n      <td>1</td>\n      <td>1</td>\n      <td>20090314363702160</td>\n    </tr>\n    <tr>\n      <th>4</th>\n      <td>20090314441803444_q1</td>\n      <td>1</td>\n      <td>1</td>\n      <td>20090314441803444</td>\n    </tr>\n  </tbody>\n</table>\n</div>"
     },
     "execution_count": 26,
     "metadata": {},
     "output_type": "execute_result"
    }
   ],
   "source": [
    "train_labels['question'] = train_labels['session_id'].str.split('q').str[-1].astype('int8')\n",
    "train_labels['session'] = train_labels['session_id'].str.split('_').str[0]\n",
    "train_labels.head()"
   ],
   "metadata": {
    "collapsed": false
   }
  },
  {
   "cell_type": "code",
   "execution_count": 27,
   "outputs": [],
   "source": [
    "train_labels['session'] = train_labels['session'].astype('int64')"
   ],
   "metadata": {
    "collapsed": false
   }
  },
  {
   "cell_type": "code",
   "execution_count": 28,
   "outputs": [],
   "source": [
    "import seaborn as sns\n",
    "import matplotlib.pyplot as plt"
   ],
   "metadata": {
    "collapsed": false
   }
  },
  {
   "cell_type": "code",
   "execution_count": 35,
   "outputs": [],
   "source": [
    "CATS = ['event_name', 'fqid', 'room_fqid', 'text']\n",
    "NUMS = ['elapsed_time','page','room_coor_x', 'room_coor_y',\n",
    "        'screen_coor_x', 'screen_coor_y', 'hover_duration']\n",
    "EVENTS = ['navigate_click','person_click','cutscene_click','object_click',\n",
    "          'map_hover','notification_click','map_click','observation_click',\n",
    "          'checkpoint']\n",
    "ROOMS = ['historicalsociety',\n",
    "          'kohlcenter',\n",
    "          'capitol_0',\n",
    "          'humanecology',\n",
    "          'drycleaner',\n",
    "          'library',\n",
    "          'capitol_1',\n",
    "          'wildlife',\n",
    "          'flaghouse',\n",
    "          'capitol_2']"
   ],
   "metadata": {
    "collapsed": false
   }
  },
  {
   "cell_type": "code",
   "execution_count": 36,
   "outputs": [],
   "source": [
    "def groupby_apply_elapsed_time(g):\n",
    "    res = {}\n",
    "    diff = np.diff(g['elapsed_time'].values)\n",
    "    res['elapsed_time_diff_mean'] = np.mean(diff)\n",
    "    res['elapsed_time_diff_std'] = np.std(diff)\n",
    "    res['elapsed_time_positive'] = len(diff[diff>0])\n",
    "    res['elapsed_time_negative'] = len(diff) - res['elapsed_time_positive']\n",
    "    res['start-end'] = g['elapsed_time'].values[-1] - g['elapsed_time'].values[0]\n",
    "    return pd.Series(res)"
   ],
   "metadata": {
    "collapsed": false
   }
  },
  {
   "cell_type": "code",
   "execution_count": 37,
   "outputs": [],
   "source": [
    "def feature_engineer(train):\n",
    "    dfs = []\n",
    "    tmp = train.groupby(['session_id','level_group']).apply(groupby_apply_elapsed_time)\n",
    "    dfs.append(tmp)\n",
    "    for c in EVENTS:\n",
    "        train[c] = (train.event_name == c)\n",
    "    train['main_room'] = train['room_fqid'].str.split('.').str[1]\n",
    "    for c in ROOMS:\n",
    "        train[c] = (train.main_room == c)\n",
    "    for c in EVENTS +ROOMS+ ['elapsed_time']:\n",
    "        tmp = train.groupby(['session_id','level_group'])[c].agg('sum')\n",
    "        tmp.name = tmp.name + '_sum'\n",
    "        dfs.append(tmp)\n",
    "    for c in CATS:\n",
    "        tmp = train.groupby(['session_id','level_group'])[c].agg('nunique')\n",
    "        tmp.name = tmp.name + '_nunique'\n",
    "        dfs.append(tmp)\n",
    "    for c in NUMS + EVENTS + ROOMS:\n",
    "        tmp = train.groupby(['session_id','level_group'])[c].agg('mean')\n",
    "        tmp.name = tmp.name + '_mean'\n",
    "        dfs.append(tmp)\n",
    "    for c in NUMS+ EVENTS + ROOMS:\n",
    "        tmp = train.groupby(['session_id','level_group'])[c].agg('std')\n",
    "        tmp.name = tmp.name + '_std'\n",
    "        dfs.append(tmp)\n",
    "    train = train.drop(EVENTS+ROOMS,axis=1)\n",
    "\n",
    "    df = pd.concat(dfs,axis=1)\n",
    "    df = df.fillna(-1)\n",
    "    df = df.reset_index()\n",
    "    df = df.set_index('session_id')\n",
    "    return df"
   ],
   "metadata": {
    "collapsed": false
   }
  },
  {
   "cell_type": "code",
   "execution_count": 38,
   "outputs": [
    {
     "name": "stdout",
     "output_type": "stream",
     "text": [
      "(35337, 82)\n",
      "CPU times: total: 3min 6s\n",
      "Wall time: 6min 39s\n"
     ]
    },
    {
     "data": {
      "text/plain": "                  level_group  elapsed_time_diff_mean  elapsed_time_diff_std  \\\nsession_id                                                                     \n20090312431273200         0-4             1188.170732            2447.579017   \n20090312431273200       13-22             1040.446301            1985.279111   \n20090312431273200        5-12              941.525424             714.119241   \n20090312433251036         0-4             1693.855072            3504.819590   \n20090312433251036       13-22             2036.150463           10339.121375   \n\n                   elapsed_time_positive  elapsed_time_negative  start-end  \\\nsession_id                                                                   \n20090312431273200                  161.0                    3.0   194860.0   \n20090312431273200                  411.0                    8.0   435947.0   \n20090312431273200                  291.0                    4.0   277750.0   \n20090312433251036                  136.0                    2.0   233752.0   \n20090312433251036                 1267.0                   29.0  2638851.0   \n\n                   navigate_click_sum  person_click_sum  cutscene_click_sum  \\\nsession_id                                                                    \n20090312431273200                  81                22                  28   \n20090312431273200                 170               123                  60   \n20090312431273200                 103               104                  12   \n20090312433251036                  49                18                  36   \n20090312433251036                 637               145                  65   \n\n                   object_click_sum  ...  historicalsociety_std  \\\nsession_id                           ...                          \n20090312431273200                11  ...               0.410055   \n20090312431273200                20  ...               0.497842   \n20090312431273200                28  ...               0.500744   \n20090312433251036                15  ...               0.431407   \n20090312433251036                83  ...               0.491914   \n\n                   kohlcenter_std  capitol_0_std  humanecology_std  \\\nsession_id                                                           \n20090312431273200        0.401218       0.109760          0.000000   \n20090312431273200        0.000000       0.000000          0.000000   \n20090312431273200        0.000000       0.171991          0.356344   \n20090312433251036        0.422493       0.119517          0.000000   \n20090312433251036        0.271684       0.000000          0.236403   \n\n                   drycleaner_std  library_std  capitol_1_std  wildlife_std  \\\nsession_id                                                                    \n20090312431273200        0.000000     0.000000       0.000000      0.000000   \n20090312431273200        0.000000     0.293894       0.152637      0.432144   \n20090312431273200        0.315267     0.362904       0.205262      0.000000   \n20090312433251036        0.000000     0.000000       0.000000      0.000000   \n20090312433251036        0.208456     0.305490       0.067884      0.326310   \n\n                   flaghouse_std  capitol_2_std  \nsession_id                                       \n20090312431273200       0.000000       0.000000  \n20090312431273200       0.265619       0.068924  \n20090312431273200       0.000000       0.000000  \n20090312433251036       0.000000       0.000000  \n20090312433251036       0.194434       0.343418  \n\n[5 rows x 82 columns]",
      "text/html": "<div>\n<style scoped>\n    .dataframe tbody tr th:only-of-type {\n        vertical-align: middle;\n    }\n\n    .dataframe tbody tr th {\n        vertical-align: top;\n    }\n\n    .dataframe thead th {\n        text-align: right;\n    }\n</style>\n<table border=\"1\" class=\"dataframe\">\n  <thead>\n    <tr style=\"text-align: right;\">\n      <th></th>\n      <th>level_group</th>\n      <th>elapsed_time_diff_mean</th>\n      <th>elapsed_time_diff_std</th>\n      <th>elapsed_time_positive</th>\n      <th>elapsed_time_negative</th>\n      <th>start-end</th>\n      <th>navigate_click_sum</th>\n      <th>person_click_sum</th>\n      <th>cutscene_click_sum</th>\n      <th>object_click_sum</th>\n      <th>...</th>\n      <th>historicalsociety_std</th>\n      <th>kohlcenter_std</th>\n      <th>capitol_0_std</th>\n      <th>humanecology_std</th>\n      <th>drycleaner_std</th>\n      <th>library_std</th>\n      <th>capitol_1_std</th>\n      <th>wildlife_std</th>\n      <th>flaghouse_std</th>\n      <th>capitol_2_std</th>\n    </tr>\n    <tr>\n      <th>session_id</th>\n      <th></th>\n      <th></th>\n      <th></th>\n      <th></th>\n      <th></th>\n      <th></th>\n      <th></th>\n      <th></th>\n      <th></th>\n      <th></th>\n      <th></th>\n      <th></th>\n      <th></th>\n      <th></th>\n      <th></th>\n      <th></th>\n      <th></th>\n      <th></th>\n      <th></th>\n      <th></th>\n      <th></th>\n    </tr>\n  </thead>\n  <tbody>\n    <tr>\n      <th>20090312431273200</th>\n      <td>0-4</td>\n      <td>1188.170732</td>\n      <td>2447.579017</td>\n      <td>161.0</td>\n      <td>3.0</td>\n      <td>194860.0</td>\n      <td>81</td>\n      <td>22</td>\n      <td>28</td>\n      <td>11</td>\n      <td>...</td>\n      <td>0.410055</td>\n      <td>0.401218</td>\n      <td>0.109760</td>\n      <td>0.000000</td>\n      <td>0.000000</td>\n      <td>0.000000</td>\n      <td>0.000000</td>\n      <td>0.000000</td>\n      <td>0.000000</td>\n      <td>0.000000</td>\n    </tr>\n    <tr>\n      <th>20090312431273200</th>\n      <td>13-22</td>\n      <td>1040.446301</td>\n      <td>1985.279111</td>\n      <td>411.0</td>\n      <td>8.0</td>\n      <td>435947.0</td>\n      <td>170</td>\n      <td>123</td>\n      <td>60</td>\n      <td>20</td>\n      <td>...</td>\n      <td>0.497842</td>\n      <td>0.000000</td>\n      <td>0.000000</td>\n      <td>0.000000</td>\n      <td>0.000000</td>\n      <td>0.293894</td>\n      <td>0.152637</td>\n      <td>0.432144</td>\n      <td>0.265619</td>\n      <td>0.068924</td>\n    </tr>\n    <tr>\n      <th>20090312431273200</th>\n      <td>5-12</td>\n      <td>941.525424</td>\n      <td>714.119241</td>\n      <td>291.0</td>\n      <td>4.0</td>\n      <td>277750.0</td>\n      <td>103</td>\n      <td>104</td>\n      <td>12</td>\n      <td>28</td>\n      <td>...</td>\n      <td>0.500744</td>\n      <td>0.000000</td>\n      <td>0.171991</td>\n      <td>0.356344</td>\n      <td>0.315267</td>\n      <td>0.362904</td>\n      <td>0.205262</td>\n      <td>0.000000</td>\n      <td>0.000000</td>\n      <td>0.000000</td>\n    </tr>\n    <tr>\n      <th>20090312433251036</th>\n      <td>0-4</td>\n      <td>1693.855072</td>\n      <td>3504.819590</td>\n      <td>136.0</td>\n      <td>2.0</td>\n      <td>233752.0</td>\n      <td>49</td>\n      <td>18</td>\n      <td>36</td>\n      <td>15</td>\n      <td>...</td>\n      <td>0.431407</td>\n      <td>0.422493</td>\n      <td>0.119517</td>\n      <td>0.000000</td>\n      <td>0.000000</td>\n      <td>0.000000</td>\n      <td>0.000000</td>\n      <td>0.000000</td>\n      <td>0.000000</td>\n      <td>0.000000</td>\n    </tr>\n    <tr>\n      <th>20090312433251036</th>\n      <td>13-22</td>\n      <td>2036.150463</td>\n      <td>10339.121375</td>\n      <td>1267.0</td>\n      <td>29.0</td>\n      <td>2638851.0</td>\n      <td>637</td>\n      <td>145</td>\n      <td>65</td>\n      <td>83</td>\n      <td>...</td>\n      <td>0.491914</td>\n      <td>0.271684</td>\n      <td>0.000000</td>\n      <td>0.236403</td>\n      <td>0.208456</td>\n      <td>0.305490</td>\n      <td>0.067884</td>\n      <td>0.326310</td>\n      <td>0.194434</td>\n      <td>0.343418</td>\n    </tr>\n  </tbody>\n</table>\n<p>5 rows × 82 columns</p>\n</div>"
     },
     "execution_count": 38,
     "metadata": {},
     "output_type": "execute_result"
    }
   ],
   "source": [
    "%%time\n",
    "df = feature_engineer(train_df)\n",
    "print( df.shape )\n",
    "df.head()"
   ],
   "metadata": {
    "collapsed": false
   }
  },
  {
   "cell_type": "code",
   "execution_count": null,
   "outputs": [],
   "source": [
    "from sklearn.model_selection import KFold, GroupKFold\n",
    "from xgboost import XGBClassifier\n",
    "import lightgbm as lgb\n",
    "from sklearn.metrics import f1_score"
   ],
   "metadata": {
    "collapsed": false
   }
  }
 ],
 "metadata": {
  "kernelspec": {
   "display_name": "Python 3",
   "language": "python",
   "name": "python3"
  },
  "language_info": {
   "codemirror_mode": {
    "name": "ipython",
    "version": 2
   },
   "file_extension": ".py",
   "mimetype": "text/x-python",
   "name": "python",
   "nbconvert_exporter": "python",
   "pygments_lexer": "ipython2",
   "version": "2.7.6"
  }
 },
 "nbformat": 4,
 "nbformat_minor": 0
}
