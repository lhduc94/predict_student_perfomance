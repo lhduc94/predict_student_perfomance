{
 "cells": [
  {
   "cell_type": "code",
   "execution_count": 1,
   "id": "0b6337a0-109e-44c3-b89a-663e4fda946a",
   "metadata": {},
   "outputs": [],
   "source": [
    "import numpy as np # linear algebra\n",
    "import pandas as pd # data processing, CSV file I/O (e.g. pd.read_csv)\n",
    "import os\n",
    "import gc\n",
    "from collections import Counter"
   ]
  },
  {
   "cell_type": "code",
   "execution_count": 2,
   "id": "3fd9adbb-a707-4986-a8c7-dc86ce69ad24",
   "metadata": {},
   "outputs": [],
   "source": [
    "class Config:\n",
    "    TRAIN_PATH = '../inputs/train.csv'\n",
    "    TEST_PATH = '../inputs/test.csv'\n",
    "    TRAIN_LABELS = '../inputs/train_labels.csv'\n",
    "    SAMPLE_SUBMISSION = '../inputs/sample_submission.csv'"
   ]
  },
  {
   "cell_type": "code",
   "execution_count": 3,
   "id": "2db5937d-616e-4abc-8676-1187a008d8a9",
   "metadata": {},
   "outputs": [],
   "source": [
    "train_df = pd.read_csv(Config.TRAIN_PATH)\n",
    "train_labels = pd.read_csv(Config.TRAIN_LABELS)"
   ]
  },
  {
   "cell_type": "code",
   "execution_count": null,
   "id": "9c5195fd-9fd9-4e97-86f0-cd94cc57d7d3",
   "metadata": {},
   "outputs": [],
   "source": [
    "train_labels['question'] = train_labels['session_id'].str.split('q').str[-1].astype('int8')\n",
    "train_labels['session'] = train_labels['session_id'].str.split('_').str[0]\n",
    "train_labels.head()"
   ]
  },
  {
   "cell_type": "code",
   "execution_count": null,
   "id": "d1bc7afd-1601-49aa-9792-d0b4997c6143",
   "metadata": {},
   "outputs": [],
   "source": []
  }
 ],
 "metadata": {
  "kernelspec": {
   "display_name": "Python 3 (ipykernel)",
   "language": "python",
   "name": "python3"
  },
  "language_info": {
   "codemirror_mode": {
    "name": "ipython",
    "version": 3
   },
   "file_extension": ".py",
   "mimetype": "text/x-python",
   "name": "python",
   "nbconvert_exporter": "python",
   "pygments_lexer": "ipython3",
   "version": "3.9.12"
  }
 },
 "nbformat": 4,
 "nbformat_minor": 5
}
