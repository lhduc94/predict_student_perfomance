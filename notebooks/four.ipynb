{
 "cells": [
  {
   "cell_type": "code",
   "execution_count": 1,
   "id": "a43fd8c3-f8d2-4a70-b32b-7d9a1958760b",
   "metadata": {},
   "outputs": [],
   "source": [
    "import numpy as np # linear algebra\n",
    "import pandas as pd # data processing, CSV file I/O (e.g. pd.read_csv)\n",
    "import os\n",
    "import gc\n",
    "from collections import Counter\n",
    "from sklearn.preprocessing import MinMaxScaler\n",
    "from sklearn.model_selection import train_test_split, GroupKFold\n",
    "from sklearn.linear_model import LogisticRegression\n",
    "from sklearn.metrics import f1_score, classification_report\n",
    "from lightgbm import LGBMClassifier\n",
    "from xgboost import XGBClassifier"
   ]
  },
  {
   "cell_type": "code",
   "execution_count": 2,
   "id": "c001e1a5-361b-40b4-821e-d66c6b2e0cbb",
   "metadata": {},
   "outputs": [],
   "source": [
    "class Config:\n",
    "    TRAIN_PATH = '../inputs/train.csv'\n",
    "    TEST_PATH = '../inputs/test.csv'\n",
    "    TRAIN_LABELS = '../inputs/train_labels.csv'\n",
    "    SAMPLE_SUBMISSION = '../inputs/sample_submission.csv'"
   ]
  },
  {
   "cell_type": "code",
   "execution_count": 3,
   "id": "7f240295-7684-4f07-8542-99fafc68b4e7",
   "metadata": {},
   "outputs": [],
   "source": [
    "def q2l(x):\n",
    "    if x <= 3:\n",
    "        return '0-4'\n",
    "    if x <= 13:\n",
    "        return '5-12'\n",
    "    return '13-22'"
   ]
  },
  {
   "cell_type": "code",
   "execution_count": 36,
   "id": "771d6f79-38cd-40f3-9f72-7972dff99c51",
   "metadata": {},
   "outputs": [],
   "source": [
    "event_features =  ['checkpoint_click','cutscene_click', 'person_click', 'navigate_click',\n",
    "                   'observation_click', 'notification_click', 'object_click',\n",
    "                   'object_hover', 'map_hover', 'map_click', 'notebook_click']\n",
    "room_features = ['historicalsociety',\n",
    "          'kohlcenter',\n",
    "          'capitol_0',\n",
    "          'humanecology',\n",
    "          'drycleaner',\n",
    "          'library',\n",
    "          'capitol_1',\n",
    "          'wildlife',\n",
    "          'flaghouse','capitol_2']\n",
    "num_features = [ \n",
    "        'page', \n",
    "        'room_coor_x', \n",
    "        'room_coor_y', \n",
    "        'screen_coor_x', \n",
    "        'screen_coor_y', \n",
    "        'hover_duration']\n",
    "def groupby_apply(g):\n",
    "    res = {}\n",
    "    for col in num_features:\n",
    "        res[f'{col}_mean'] = np.mean(g[col])\n",
    "        res[f'{col}_max'] = np.max(g[col])\n",
    "        res[f'{col}_min'] = np.min(g[col])\n",
    "        res[f'{col}_std'] = np.std(g[col])\n",
    "    elasped_time = g['elapsed_time'].values/1000\n",
    "    level = g['level'].values\n",
    "    res['duration'] = elasped_time.max() - elasped_time.min()\n",
    "    for i in range(0,23):\n",
    "        t = elasped_time[level==i]\n",
    "        if len(t) > 0 :\n",
    "            res[f'duration_level_{i}'] = t.max()-t.min()\n",
    "        else:\n",
    "            res[f'duration_level_{i}'] = 0\n",
    "    res['text_fqid_null'] = pd.isnull(g['text_fqid']).sum()\n",
    "    event_name_dict = Counter(g['event_name'].values)\n",
    "    event_sequence = g['event_name'].values\n",
    "    room_event_dict = Counter(g['room_event'].values)\n",
    "    room_sequence = g['main_room'].values\n",
    "    for col in event_features:\n",
    "        res[f'{col}_sum'] = event_name_dict.get(col, 0)\n",
    "    \n",
    "    room_dict = Counter(g['main_room'].values)\n",
    "    for col in room_features:\n",
    "        res[f'{col}_sum'] = room_dict.get(col, 0)\n",
    "    elapsed_time_diff_all = np.diff(elasped_time)\n",
    "    res['elapsed_time_diff_mean'] = np.mean(elapsed_time_diff_all)\n",
    "    res['elapsed_time_diff_std'] = np.std(elapsed_time_diff_all)\n",
    "    res['elapsed_time_diff_max'] = np.max(elapsed_time_diff_all)\n",
    "    res['elapsed_time_diff_min'] = np.min(elapsed_time_diff_all)\n",
    "    res['elapsed_time_diff_positive'] = len(elapsed_time_diff_all[elapsed_time_diff_all>0])\n",
    "    \n",
    "    for col in event_features:\n",
    "        elapsed_time_diff_event = elapsed_time_diff_all[event_sequence[1:]==col]\n",
    "        elapsed_time_diff_event = elapsed_time_diff_event if len(elapsed_time_diff_event) > 0 else [0]\n",
    "        res[f'elapsed_time_diff_{col}_mean'] = np.mean(elapsed_time_diff_event)\n",
    "        res[f'elapsed_time_diff_{col}_max'] = np.max(elapsed_time_diff_event)\n",
    "        res[f'elapsed_time_diff_{col}_min'] = np.min(elapsed_time_diff_event)\n",
    "    return pd.Series(res)"
   ]
  },
  {
   "cell_type": "code",
   "execution_count": 37,
   "id": "b71be58a-36af-468a-9e62-fe0c8a796798",
   "metadata": {},
   "outputs": [],
   "source": [
    "def feature_engineering(df, meta):\n",
    "    df['main_room'] = df['room_fqid'].str.split('.').str[1]\n",
    "    df['room_event'] =  df['event_name']+'_' + df['main_room']\n",
    "    X = df.groupby(['session','level_group']).apply(groupby_apply).reset_index()\n",
    "    X = meta.merge(X,how='left', on=['session','level_group'])\n",
    "    for i in range(1,19):\n",
    "        X[f'q{i}'] = X['question'] == i\n",
    "    return X"
   ]
  },
  {
   "cell_type": "code",
   "execution_count": 38,
   "id": "4e3a393a-1103-4dd1-a259-02da7badcafa",
   "metadata": {},
   "outputs": [],
   "source": [
    "train_df = pd.read_csv(Config.TRAIN_PATH, usecols=lambda x: x not in ['fullscreen','hq','music'])\n",
    "train_df['main_room'] = train_df['room_fqid'].str.split('.').str[1]\n",
    "train_df['room_event'] =  train_df['event_name']+'_' + train_df['main_room']\n",
    "train_labels = pd.read_csv(Config.TRAIN_LABELS)\n",
    "train_df.rename(columns={'session_id':'session'},inplace=True)\n",
    "train_labels['question'] = train_labels['session_id'].str.split('q').str[-1].astype('int')\n",
    "train_labels['session'] = train_labels['session_id'].str.split('_').str[0].astype('int64')\n",
    "train_labels['level_group'] = train_labels['question'].apply(lambda x: q2l(x))"
   ]
  },
  {
   "cell_type": "code",
   "execution_count": 39,
   "id": "010e4a03-fb0f-4aab-b161-61d07980b6a9",
   "metadata": {},
   "outputs": [
    {
     "data": {
      "text/plain": [
       "37"
      ]
     },
     "execution_count": 39,
     "metadata": {},
     "output_type": "execute_result"
    }
   ],
   "source": [
    "df1 = train_df.loc[train_df.level_group=='0-4']\n",
    "X1 = df1.groupby(['session']).apply(groupby_apply).reset_index()\n",
    "X1['level_group'] = '0-4'\n",
    "del df1\n",
    "gc.collect()"
   ]
  },
  {
   "cell_type": "code",
   "execution_count": 40,
   "id": "573ee987-af91-45d7-b2b7-ce61d5adeeb1",
   "metadata": {},
   "outputs": [
    {
     "data": {
      "text/plain": [
       "0"
      ]
     },
     "execution_count": 40,
     "metadata": {},
     "output_type": "execute_result"
    }
   ],
   "source": [
    "df2 = train_df.loc[(train_df.level_group=='0-4')|(train_df.level_group=='5-12')]\n",
    "X2 = df2.groupby(['session']).apply(groupby_apply).reset_index()\n",
    "X2['level_group'] = '5-12'\n",
    "del df2\n",
    "gc.collect()"
   ]
  },
  {
   "cell_type": "code",
   "execution_count": 41,
   "id": "0daace7a-b453-499b-9783-38ad345b3a3b",
   "metadata": {},
   "outputs": [
    {
     "data": {
      "text/plain": [
       "0"
      ]
     },
     "execution_count": 41,
     "metadata": {},
     "output_type": "execute_result"
    }
   ],
   "source": [
    "X3 = train_df.groupby(['session']).apply(groupby_apply).reset_index()\n",
    "X3['level_group'] = '13-22'\n",
    "gc.collect()"
   ]
  },
  {
   "cell_type": "code",
   "execution_count": 42,
   "id": "cb1ac8b9-819a-4d16-bfb1-f9699aec0984",
   "metadata": {},
   "outputs": [],
   "source": [
    "X = pd.concat([X1,X2,X3])\n",
    "X = train_labels.merge(X,how='left', on=['session','level_group'])\n",
    "for i in range(1,19):\n",
    "    X[f'q{i}'] = X['question'] == i"
   ]
  },
  {
   "cell_type": "code",
   "execution_count": 43,
   "id": "bf7c2b1a-ab9b-4b53-a7f1-18ebda1a0730",
   "metadata": {},
   "outputs": [
    {
     "data": {
      "text/plain": [
       "126"
      ]
     },
     "execution_count": 43,
     "metadata": {},
     "output_type": "execute_result"
    }
   ],
   "source": [
    "FEATURES = X.columns[5:]\n",
    "len(FEATURES)"
   ]
  },
  {
   "cell_type": "code",
   "execution_count": 71,
   "id": "22e32e29-1720-46b9-8748-a4d64094d6e0",
   "metadata": {},
   "outputs": [
    {
     "name": "stdout",
     "output_type": "stream",
     "text": [
      "#########################\n",
      "### Fold 1\n",
      "#########################\n",
      "0:\tlearn: 0.6881789\ttest: 0.6880348\tbest: 0.6880348 (0)\ttotal: 12.2ms\tremaining: 36.7s\n",
      "100:\tlearn: 0.5825245\ttest: 0.5778433\tbest: 0.5778433 (100)\ttotal: 606ms\tremaining: 17.4s\n",
      "200:\tlearn: 0.5685858\ttest: 0.5637905\tbest: 0.5637905 (200)\ttotal: 1.22s\tremaining: 17s\n",
      "300:\tlearn: 0.5628842\ttest: 0.5588872\tbest: 0.5588872 (300)\ttotal: 1.83s\tremaining: 16.4s\n",
      "400:\tlearn: 0.5593680\ttest: 0.5564495\tbest: 0.5564495 (400)\ttotal: 2.43s\tremaining: 15.8s\n",
      "500:\tlearn: 0.5563858\ttest: 0.5546111\tbest: 0.5546111 (500)\ttotal: 3.04s\tremaining: 15.2s\n",
      "600:\tlearn: 0.5538504\ttest: 0.5533750\tbest: 0.5533750 (600)\ttotal: 3.67s\tremaining: 14.6s\n",
      "700:\tlearn: 0.5517604\ttest: 0.5525798\tbest: 0.5525798 (700)\ttotal: 4.27s\tremaining: 14s\n",
      "800:\tlearn: 0.5498532\ttest: 0.5518729\tbest: 0.5518655 (799)\ttotal: 4.87s\tremaining: 13.4s\n",
      "900:\tlearn: 0.5480341\ttest: 0.5514117\tbest: 0.5514094 (898)\ttotal: 5.48s\tremaining: 12.8s\n",
      "1000:\tlearn: 0.5463559\ttest: 0.5510189\tbest: 0.5510189 (1000)\ttotal: 6.09s\tremaining: 12.2s\n",
      "1100:\tlearn: 0.5448023\ttest: 0.5506739\tbest: 0.5506739 (1100)\ttotal: 6.71s\tremaining: 11.6s\n",
      "1200:\tlearn: 0.5432957\ttest: 0.5502489\tbest: 0.5502489 (1200)\ttotal: 7.34s\tremaining: 11s\n",
      "1300:\tlearn: 0.5418881\ttest: 0.5500591\tbest: 0.5500533 (1298)\ttotal: 7.96s\tremaining: 10.4s\n",
      "1400:\tlearn: 0.5405407\ttest: 0.5498373\tbest: 0.5498373 (1400)\ttotal: 8.57s\tremaining: 9.78s\n",
      "1500:\tlearn: 0.5392215\ttest: 0.5495920\tbest: 0.5495888 (1499)\ttotal: 9.19s\tremaining: 9.18s\n",
      "1600:\tlearn: 0.5379739\ttest: 0.5494608\tbest: 0.5494554 (1599)\ttotal: 9.83s\tremaining: 8.59s\n",
      "1700:\tlearn: 0.5367409\ttest: 0.5492947\tbest: 0.5492947 (1700)\ttotal: 10.4s\tremaining: 7.97s\n",
      "1800:\tlearn: 0.5355119\ttest: 0.5490827\tbest: 0.5490695 (1794)\ttotal: 11s\tremaining: 7.35s\n",
      "1900:\tlearn: 0.5343727\ttest: 0.5488900\tbest: 0.5488817 (1892)\ttotal: 11.7s\tremaining: 6.74s\n",
      "2000:\tlearn: 0.5332768\ttest: 0.5487292\tbest: 0.5487292 (2000)\ttotal: 12.3s\tremaining: 6.14s\n",
      "2100:\tlearn: 0.5322409\ttest: 0.5485922\tbest: 0.5485922 (2100)\ttotal: 12.9s\tremaining: 5.53s\n",
      "2200:\tlearn: 0.5311259\ttest: 0.5484946\tbest: 0.5484707 (2159)\ttotal: 13.5s\tremaining: 4.92s\n",
      "bestTest = 0.5484707444\n",
      "bestIteration = 2159\n",
      "Shrink model to first 2160 iterations.\n",
      "\n",
      "#########################\n",
      "### Fold 2\n",
      "#########################\n",
      "0:\tlearn: 0.6877729\ttest: 0.6878117\tbest: 0.6878117 (0)\ttotal: 6.1ms\tremaining: 18.3s\n",
      "100:\tlearn: 0.5802358\ttest: 0.5827083\tbest: 0.5827083 (100)\ttotal: 603ms\tremaining: 17.3s\n",
      "200:\tlearn: 0.5664242\ttest: 0.5701701\tbest: 0.5701701 (200)\ttotal: 1.2s\tremaining: 16.7s\n",
      "300:\tlearn: 0.5607143\ttest: 0.5659962\tbest: 0.5659962 (300)\ttotal: 1.8s\tremaining: 16.1s\n",
      "400:\tlearn: 0.5570315\ttest: 0.5635025\tbest: 0.5635025 (400)\ttotal: 2.41s\tremaining: 15.6s\n",
      "500:\tlearn: 0.5541773\ttest: 0.5619352\tbest: 0.5619352 (500)\ttotal: 3.02s\tremaining: 15.1s\n",
      "600:\tlearn: 0.5517330\ttest: 0.5609227\tbest: 0.5609227 (600)\ttotal: 3.64s\tremaining: 14.5s\n",
      "700:\tlearn: 0.5495418\ttest: 0.5600563\tbest: 0.5600563 (700)\ttotal: 4.31s\tremaining: 14.1s\n",
      "800:\tlearn: 0.5476180\ttest: 0.5595616\tbest: 0.5595616 (800)\ttotal: 4.97s\tremaining: 13.6s\n",
      "900:\tlearn: 0.5458440\ttest: 0.5591271\tbest: 0.5591271 (900)\ttotal: 5.63s\tremaining: 13.1s\n",
      "1000:\tlearn: 0.5442555\ttest: 0.5587703\tbest: 0.5587653 (997)\ttotal: 6.31s\tremaining: 12.6s\n",
      "1100:\tlearn: 0.5427007\ttest: 0.5584368\tbest: 0.5584368 (1100)\ttotal: 7s\tremaining: 12.1s\n",
      "1200:\tlearn: 0.5411739\ttest: 0.5580251\tbest: 0.5580251 (1200)\ttotal: 7.67s\tremaining: 11.5s\n",
      "1300:\tlearn: 0.5397283\ttest: 0.5577433\tbest: 0.5577433 (1300)\ttotal: 8.35s\tremaining: 10.9s\n"
     ]
    },
    {
     "ename": "KeyboardInterrupt",
     "evalue": "",
     "output_type": "error",
     "traceback": [
      "\u001b[1;31m---------------------------------------------------------------------------\u001b[0m",
      "\u001b[1;31mKeyboardInterrupt\u001b[0m                         Traceback (most recent call last)",
      "Input \u001b[1;32mIn [71]\u001b[0m, in \u001b[0;36m<cell line: 7>\u001b[1;34m()\u001b[0m\n\u001b[0;32m     29\u001b[0m         \u001b[38;5;66;03m# TRAIN MODEL\u001b[39;00m\n\u001b[0;32m     30\u001b[0m     \u001b[38;5;66;03m# clf =  XGBClassifier(**xgb_params)\u001b[39;00m\n\u001b[0;32m     31\u001b[0m     clf \u001b[38;5;241m=\u001b[39m CatBoostClassifier(\n\u001b[0;32m     32\u001b[0m     iterations\u001b[38;5;241m=\u001b[39m\u001b[38;5;241m3000\u001b[39m, \n\u001b[0;32m     33\u001b[0m     learning_rate\u001b[38;5;241m=\u001b[39m\u001b[38;5;241m0.03\u001b[39m,\n\u001b[1;32m   (...)\u001b[0m\n\u001b[0;32m     41\u001b[0m     \u001b[38;5;66;03m#loss_function='CrossEntropy'\u001b[39;00m\n\u001b[0;32m     42\u001b[0m )\n\u001b[1;32m---> 43\u001b[0m     \u001b[43mclf\u001b[49m\u001b[38;5;241;43m.\u001b[39;49m\u001b[43mfit\u001b[49m\u001b[43m(\u001b[49m\u001b[43mX_train\u001b[49m\u001b[38;5;241;43m.\u001b[39;49m\u001b[43mastype\u001b[49m\u001b[43m(\u001b[49m\u001b[38;5;124;43m'\u001b[39;49m\u001b[38;5;124;43mfloat32\u001b[39;49m\u001b[38;5;124;43m'\u001b[39;49m\u001b[43m)\u001b[49m\u001b[43m,\u001b[49m\u001b[43m \u001b[49m\u001b[43my_train\u001b[49m\u001b[43m,\u001b[49m\n\u001b[0;32m     44\u001b[0m \u001b[43m            \u001b[49m\u001b[43meval_set\u001b[49m\u001b[38;5;241;43m=\u001b[39;49m\u001b[43m[\u001b[49m\u001b[43m(\u001b[49m\u001b[43mX_valid\u001b[49m\u001b[38;5;241;43m.\u001b[39;49m\u001b[43mastype\u001b[49m\u001b[43m(\u001b[49m\u001b[38;5;124;43m'\u001b[39;49m\u001b[38;5;124;43mfloat32\u001b[39;49m\u001b[38;5;124;43m'\u001b[39;49m\u001b[43m)\u001b[49m\u001b[43m,\u001b[49m\u001b[43my_valid\u001b[49m\u001b[43m)\u001b[49m\u001b[43m]\u001b[49m\u001b[43m,\u001b[49m\n\u001b[0;32m     45\u001b[0m \u001b[43m            \u001b[49m\u001b[43mverbose\u001b[49m\u001b[38;5;241;43m=\u001b[39;49m\u001b[38;5;241;43m100\u001b[39;49m\u001b[43m)\u001b[49m\n\u001b[0;32m     46\u001b[0m     \u001b[38;5;66;03m# print(f'({clf.best_ntree_limit}), ',end='')\u001b[39;00m\n\u001b[0;32m     47\u001b[0m \n\u001b[0;32m     48\u001b[0m         \u001b[38;5;66;03m# SAVE MODEL, PREDICT VALID OOF\u001b[39;00m\n\u001b[0;32m     49\u001b[0m     models[i] \u001b[38;5;241m=\u001b[39m clf\n",
      "File \u001b[1;32m~\\AppData\\Roaming\\Python\\Python39\\site-packages\\catboost\\core.py:5007\u001b[0m, in \u001b[0;36mCatBoostClassifier.fit\u001b[1;34m(self, X, y, cat_features, text_features, embedding_features, sample_weight, baseline, use_best_model, eval_set, verbose, logging_level, plot, column_description, verbose_eval, metric_period, silent, early_stopping_rounds, save_snapshot, snapshot_file, snapshot_interval, init_model, callbacks, log_cout, log_cerr)\u001b[0m\n\u001b[0;32m   5004\u001b[0m \u001b[38;5;28;01mif\u001b[39;00m \u001b[38;5;124m'\u001b[39m\u001b[38;5;124mloss_function\u001b[39m\u001b[38;5;124m'\u001b[39m \u001b[38;5;129;01min\u001b[39;00m params:\n\u001b[0;32m   5005\u001b[0m     CatBoostClassifier\u001b[38;5;241m.\u001b[39m_check_is_compatible_loss(params[\u001b[38;5;124m'\u001b[39m\u001b[38;5;124mloss_function\u001b[39m\u001b[38;5;124m'\u001b[39m])\n\u001b[1;32m-> 5007\u001b[0m \u001b[38;5;28;43mself\u001b[39;49m\u001b[38;5;241;43m.\u001b[39;49m\u001b[43m_fit\u001b[49m\u001b[43m(\u001b[49m\u001b[43mX\u001b[49m\u001b[43m,\u001b[49m\u001b[43m \u001b[49m\u001b[43my\u001b[49m\u001b[43m,\u001b[49m\u001b[43m \u001b[49m\u001b[43mcat_features\u001b[49m\u001b[43m,\u001b[49m\u001b[43m \u001b[49m\u001b[43mtext_features\u001b[49m\u001b[43m,\u001b[49m\u001b[43m \u001b[49m\u001b[43membedding_features\u001b[49m\u001b[43m,\u001b[49m\u001b[43m \u001b[49m\u001b[38;5;28;43;01mNone\u001b[39;49;00m\u001b[43m,\u001b[49m\u001b[43m \u001b[49m\u001b[43msample_weight\u001b[49m\u001b[43m,\u001b[49m\u001b[43m \u001b[49m\u001b[38;5;28;43;01mNone\u001b[39;49;00m\u001b[43m,\u001b[49m\u001b[43m \u001b[49m\u001b[38;5;28;43;01mNone\u001b[39;49;00m\u001b[43m,\u001b[49m\u001b[43m \u001b[49m\u001b[38;5;28;43;01mNone\u001b[39;49;00m\u001b[43m,\u001b[49m\u001b[43m \u001b[49m\u001b[38;5;28;43;01mNone\u001b[39;49;00m\u001b[43m,\u001b[49m\u001b[43m \u001b[49m\u001b[43mbaseline\u001b[49m\u001b[43m,\u001b[49m\u001b[43m \u001b[49m\u001b[43muse_best_model\u001b[49m\u001b[43m,\u001b[49m\n\u001b[0;32m   5008\u001b[0m \u001b[43m          \u001b[49m\u001b[43meval_set\u001b[49m\u001b[43m,\u001b[49m\u001b[43m \u001b[49m\u001b[43mverbose\u001b[49m\u001b[43m,\u001b[49m\u001b[43m \u001b[49m\u001b[43mlogging_level\u001b[49m\u001b[43m,\u001b[49m\u001b[43m \u001b[49m\u001b[43mplot\u001b[49m\u001b[43m,\u001b[49m\u001b[43m \u001b[49m\u001b[43mcolumn_description\u001b[49m\u001b[43m,\u001b[49m\u001b[43m \u001b[49m\u001b[43mverbose_eval\u001b[49m\u001b[43m,\u001b[49m\u001b[43m \u001b[49m\u001b[43mmetric_period\u001b[49m\u001b[43m,\u001b[49m\n\u001b[0;32m   5009\u001b[0m \u001b[43m          \u001b[49m\u001b[43msilent\u001b[49m\u001b[43m,\u001b[49m\u001b[43m \u001b[49m\u001b[43mearly_stopping_rounds\u001b[49m\u001b[43m,\u001b[49m\u001b[43m \u001b[49m\u001b[43msave_snapshot\u001b[49m\u001b[43m,\u001b[49m\u001b[43m \u001b[49m\u001b[43msnapshot_file\u001b[49m\u001b[43m,\u001b[49m\u001b[43m \u001b[49m\u001b[43msnapshot_interval\u001b[49m\u001b[43m,\u001b[49m\u001b[43m \u001b[49m\u001b[43minit_model\u001b[49m\u001b[43m,\u001b[49m\u001b[43m \u001b[49m\u001b[43mcallbacks\u001b[49m\u001b[43m,\u001b[49m\u001b[43m \u001b[49m\u001b[43mlog_cout\u001b[49m\u001b[43m,\u001b[49m\u001b[43m \u001b[49m\u001b[43mlog_cerr\u001b[49m\u001b[43m)\u001b[49m\n\u001b[0;32m   5010\u001b[0m \u001b[38;5;28;01mreturn\u001b[39;00m \u001b[38;5;28mself\u001b[39m\n",
      "File \u001b[1;32m~\\AppData\\Roaming\\Python\\Python39\\site-packages\\catboost\\core.py:2278\u001b[0m, in \u001b[0;36mCatBoost._fit\u001b[1;34m(self, X, y, cat_features, text_features, embedding_features, pairs, sample_weight, group_id, group_weight, subgroup_id, pairs_weight, baseline, use_best_model, eval_set, verbose, logging_level, plot, column_description, verbose_eval, metric_period, silent, early_stopping_rounds, save_snapshot, snapshot_file, snapshot_interval, init_model, callbacks, log_cout, log_cerr)\u001b[0m\n\u001b[0;32m   2274\u001b[0m allow_clear_pool \u001b[38;5;241m=\u001b[39m train_params[\u001b[38;5;124m\"\u001b[39m\u001b[38;5;124mallow_clear_pool\u001b[39m\u001b[38;5;124m\"\u001b[39m]\n\u001b[0;32m   2276\u001b[0m \u001b[38;5;28;01mwith\u001b[39;00m log_fixup(log_cout, log_cerr), \\\n\u001b[0;32m   2277\u001b[0m     plot_wrapper(plot, [_get_train_dir(\u001b[38;5;28mself\u001b[39m\u001b[38;5;241m.\u001b[39mget_params())]):\n\u001b[1;32m-> 2278\u001b[0m     \u001b[38;5;28;43mself\u001b[39;49m\u001b[38;5;241;43m.\u001b[39;49m\u001b[43m_train\u001b[49m\u001b[43m(\u001b[49m\n\u001b[0;32m   2279\u001b[0m \u001b[43m        \u001b[49m\u001b[43mtrain_pool\u001b[49m\u001b[43m,\u001b[49m\n\u001b[0;32m   2280\u001b[0m \u001b[43m        \u001b[49m\u001b[43mtrain_params\u001b[49m\u001b[43m[\u001b[49m\u001b[38;5;124;43m\"\u001b[39;49m\u001b[38;5;124;43meval_sets\u001b[39;49m\u001b[38;5;124;43m\"\u001b[39;49m\u001b[43m]\u001b[49m\u001b[43m,\u001b[49m\n\u001b[0;32m   2281\u001b[0m \u001b[43m        \u001b[49m\u001b[43mparams\u001b[49m\u001b[43m,\u001b[49m\n\u001b[0;32m   2282\u001b[0m \u001b[43m        \u001b[49m\u001b[43mallow_clear_pool\u001b[49m\u001b[43m,\u001b[49m\n\u001b[0;32m   2283\u001b[0m \u001b[43m        \u001b[49m\u001b[43mtrain_params\u001b[49m\u001b[43m[\u001b[49m\u001b[38;5;124;43m\"\u001b[39;49m\u001b[38;5;124;43minit_model\u001b[39;49m\u001b[38;5;124;43m\"\u001b[39;49m\u001b[43m]\u001b[49m\n\u001b[0;32m   2284\u001b[0m \u001b[43m    \u001b[49m\u001b[43m)\u001b[49m\n\u001b[0;32m   2286\u001b[0m \u001b[38;5;66;03m# Have property feature_importance possibly set\u001b[39;00m\n\u001b[0;32m   2287\u001b[0m loss \u001b[38;5;241m=\u001b[39m \u001b[38;5;28mself\u001b[39m\u001b[38;5;241m.\u001b[39m_object\u001b[38;5;241m.\u001b[39m_get_loss_function_name()\n",
      "File \u001b[1;32m~\\AppData\\Roaming\\Python\\Python39\\site-packages\\catboost\\core.py:1705\u001b[0m, in \u001b[0;36m_CatBoostBase._train\u001b[1;34m(self, train_pool, test_pool, params, allow_clear_pool, init_model)\u001b[0m\n\u001b[0;32m   1704\u001b[0m \u001b[38;5;28;01mdef\u001b[39;00m \u001b[38;5;21m_train\u001b[39m(\u001b[38;5;28mself\u001b[39m, train_pool, test_pool, params, allow_clear_pool, init_model):\n\u001b[1;32m-> 1705\u001b[0m     \u001b[38;5;28;43mself\u001b[39;49m\u001b[38;5;241;43m.\u001b[39;49m\u001b[43m_object\u001b[49m\u001b[38;5;241;43m.\u001b[39;49m\u001b[43m_train\u001b[49m\u001b[43m(\u001b[49m\u001b[43mtrain_pool\u001b[49m\u001b[43m,\u001b[49m\u001b[43m \u001b[49m\u001b[43mtest_pool\u001b[49m\u001b[43m,\u001b[49m\u001b[43m \u001b[49m\u001b[43mparams\u001b[49m\u001b[43m,\u001b[49m\u001b[43m \u001b[49m\u001b[43mallow_clear_pool\u001b[49m\u001b[43m,\u001b[49m\u001b[43m \u001b[49m\u001b[43minit_model\u001b[49m\u001b[38;5;241;43m.\u001b[39;49m\u001b[43m_object\u001b[49m\u001b[43m \u001b[49m\u001b[38;5;28;43;01mif\u001b[39;49;00m\u001b[43m \u001b[49m\u001b[43minit_model\u001b[49m\u001b[43m \u001b[49m\u001b[38;5;28;43;01melse\u001b[39;49;00m\u001b[43m \u001b[49m\u001b[38;5;28;43;01mNone\u001b[39;49;00m\u001b[43m)\u001b[49m\n\u001b[0;32m   1706\u001b[0m     \u001b[38;5;28mself\u001b[39m\u001b[38;5;241m.\u001b[39m_set_trained_model_attributes()\n",
      "File \u001b[1;32m_catboost.pyx:4585\u001b[0m, in \u001b[0;36m_catboost._CatBoost._train\u001b[1;34m()\u001b[0m\n",
      "File \u001b[1;32m_catboost.pyx:4634\u001b[0m, in \u001b[0;36m_catboost._CatBoost._train\u001b[1;34m()\u001b[0m\n",
      "\u001b[1;31mKeyboardInterrupt\u001b[0m: "
     ]
    }
   ],
   "source": [
    "n_splits=5\n",
    "gkf = GroupKFold(n_splits=n_splits)\n",
    "oof = np.zeros(X.shape[0])\n",
    "models = {}\n",
    "\n",
    "# COMPUTE CV SCORE WITH 5 GROUP K FOLD\n",
    "for i, (train_index, valid_index) in enumerate(gkf.split(X, groups=X['session'])):\n",
    "    print('#'*25)\n",
    "    print('### Fold',i+1)\n",
    "    print('#'*25)\n",
    "\n",
    "    # xgb_params = {\n",
    "    #     'objective' : 'binary:logistic',\n",
    "    #     'eval_metric':'logloss',\n",
    "    #     'learning_rate': 0.01,\n",
    "    #     'max_depth': 5,\n",
    "    #     'n_estimators': 3000,\n",
    "    #     'early_stopping_rounds': 50,\n",
    "    #     'subsample':0.8,\n",
    "    #     'colsample_bytree': 0.8,\n",
    "    #     'tree_method': 'gpu_hist',\n",
    "    #     'seed':42,\n",
    "    #     'use_label_encoder' : False}\n",
    "\n",
    "    X_train = X.iloc[train_index][FEATURES]\n",
    "    X_valid = X.iloc[valid_index][FEATURES]\n",
    "    y_train = X.iloc[train_index]['correct'].values\n",
    "    y_valid = X.iloc[valid_index]['correct'].values\n",
    "        # TRAIN MODEL\n",
    "    # clf =  XGBClassifier(**xgb_params)\n",
    "    clf = CatBoostClassifier(\n",
    "    iterations=3000, \n",
    "    learning_rate=0.03,\n",
    "    max_depth=5,\n",
    "    subsample=0.8,\n",
    "    task_type='GPU',\n",
    "    early_stopping_rounds=50,\n",
    "        random_state=42,\n",
    "        auto_class_weights='Balanced',\n",
    "        bootstrap_type='Poisson'\n",
    "    #loss_function='CrossEntropy'\n",
    ")\n",
    "    clf.fit(X_train.astype('float32'), y_train,\n",
    "            eval_set=[(X_valid.astype('float32'),y_valid)],\n",
    "            verbose=100)\n",
    "    # print(f'({clf.best_ntree_limit}), ',end='')\n",
    "\n",
    "        # SAVE MODEL, PREDICT VALID OOF\n",
    "    models[i] = clf\n",
    "    oof[valid_index] = clf.predict_proba(X_valid)[:,1]\n",
    "\n",
    "    print()"
   ]
  },
  {
   "cell_type": "code",
   "execution_count": null,
   "id": "a9df84c7-b7bd-468f-bbf1-1148fa76a815",
   "metadata": {},
   "outputs": [],
   "source": [
    "import matplotlib.pyplot as plt\n",
    "import seaborn as sns"
   ]
  },
  {
   "cell_type": "code",
   "execution_count": null,
   "id": "6d23a220-6e53-46dd-b049-4415b8bcfc0d",
   "metadata": {},
   "outputs": [],
   "source": [
    "\n",
    "def plot_feature_importance(importance,names,model_type):\n",
    "\n",
    "    #Create arrays from feature importance and feature names\n",
    "    feature_importance = np.array(importance)\n",
    "    feature_names = np.array(names)\n",
    "\n",
    "    #Create a DataFrame using a Dictionary\n",
    "    data={'feature_names':feature_names,'feature_importance':feature_importance}\n",
    "    fi_df = pd.DataFrame(data)\n",
    "\n",
    "    #Sort the DataFrame in order decreasing feature importance\n",
    "    fi_df.sort_values(by=['feature_importance'], ascending=False,inplace=True)\n",
    "    fi_df = fi_df.head(50)\n",
    "    #Define size of bar plot\n",
    "    plt.figure(figsize=(20,10))\n",
    "    #Plot Searborn bar chart\n",
    "    sns.barplot(x=fi_df['feature_importance'], y=fi_df['feature_names'])\n",
    "    #Add chart labels\n",
    "    plt.title(model_type + 'FEATURE IMPORTANCE')\n",
    "    plt.xlabel('FEATURE IMPORTANCE')\n",
    "    plt.ylabel('FEATURE NAMES')\n",
    "feat_imp = {}\n",
    "for k, v in models.items():\n",
    "    for x, y in zip(v.feature_importances_, v.feature_names_):\n",
    "        if y not in feat_imp:\n",
    "            feat_imp[y] = x\n",
    "        else:\n",
    "            feat_imp[y]+=x\n",
    "plot_feature_importance(list(feat_imp.values()),list(feat_imp.keys()),'')"
   ]
  },
  {
   "cell_type": "code",
   "execution_count": null,
   "id": "8619ea72-bec7-4820-bd38-ee942282655e",
   "metadata": {},
   "outputs": [],
   "source": [
    "scores = []; thresholds = []\n",
    "best_score = 0; best_threshold = 0\n",
    "\n",
    "for threshold in np.arange(0.4,0.9,0.01):\n",
    "    print(f'{threshold:.02f}, ',end='')\n",
    "    preds = (oof>threshold).astype('int')\n",
    "    m = f1_score(X['correct'], preds, average='macro')\n",
    "    scores.append(m)\n",
    "    thresholds.append(threshold)\n",
    "    if m>best_score:\n",
    "        best_score = m\n",
    "        best_threshold = threshold"
   ]
  },
  {
   "cell_type": "code",
   "execution_count": null,
   "id": "0b32015a-316d-4884-b9a3-d04507c5ac5b",
   "metadata": {},
   "outputs": [],
   "source": [
    "import matplotlib.pyplot as plt\n",
    "\n",
    "# PLOT THRESHOLD VS. F1_SCORE\n",
    "plt.figure(figsize=(20,5))\n",
    "plt.plot(thresholds,scores,'-o',color='blue')\n",
    "plt.scatter([best_threshold], [best_score], color='blue', s=300, alpha=1)\n",
    "plt.xlabel('Threshold',size=14)\n",
    "plt.ylabel('Validation F1 Score',size=14)\n",
    "plt.title(f'Threshold vs. F1_Score with Best F1_Score = {best_score:.5f} at Best Threshold = {best_threshold:.3}',size=18)\n",
    "plt.show()"
   ]
  },
  {
   "cell_type": "code",
   "execution_count": 53,
   "id": "fcafdc09-af28-420f-8fd0-3e364481fca0",
   "metadata": {},
   "outputs": [],
   "source": [
    "from catboost import CatBoostClassifier"
   ]
  },
  {
   "cell_type": "code",
   "execution_count": null,
   "id": "e0683286-0dc1-4390-8f19-132b417f16b2",
   "metadata": {},
   "outputs": [],
   "source": []
  }
 ],
 "metadata": {
  "kernelspec": {
   "display_name": "Python 3 (ipykernel)",
   "language": "python",
   "name": "python3"
  },
  "language_info": {
   "codemirror_mode": {
    "name": "ipython",
    "version": 3
   },
   "file_extension": ".py",
   "mimetype": "text/x-python",
   "name": "python",
   "nbconvert_exporter": "python",
   "pygments_lexer": "ipython3",
   "version": "3.9.12"
  }
 },
 "nbformat": 4,
 "nbformat_minor": 5
}
